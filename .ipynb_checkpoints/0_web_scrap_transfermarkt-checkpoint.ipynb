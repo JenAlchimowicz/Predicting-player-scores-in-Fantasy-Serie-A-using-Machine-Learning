{
 "cells": [
  {
   "cell_type": "code",
   "execution_count": 13,
   "id": "11d30f83",
   "metadata": {},
   "outputs": [],
   "source": [
    "import pandas as pd\n",
    "import requests\n",
    "from bs4 import BeautifulSoup\n",
    "import time"
   ]
  },
  {
   "cell_type": "code",
   "execution_count": 3,
   "id": "a6b938c1",
   "metadata": {},
   "outputs": [],
   "source": [
    "# Necessary to access transfermarkt\n",
    "headers = {'User-Agent':'Mozilla/5.0 (X11; Linux x86_64) AppleWebKit/537.36 (KHTML, like Gecko) Chrome/47.0.2526.106 Safari/537.36'}"
   ]
  },
  {
   "cell_type": "markdown",
   "id": "873312b4",
   "metadata": {},
   "source": [
    "### Helper function"
   ]
  },
  {
   "cell_type": "code",
   "execution_count": 7,
   "id": "f242bf7f",
   "metadata": {},
   "outputs": [],
   "source": [
    "#There are 3 different types, or more?, of what can happen in the 'status' col, so to avoid errors and nans\n",
    "#I create a helper function to consider all cases\n",
    "def get_7th_cell_value(cell):\n",
    "    \n",
    "    #Normal games (played)\n",
    "    if cell.find('a') != None:\n",
    "        return cell.find('a').string\n",
    "\n",
    "    #Injuries\n",
    "    if cell.find('span') != None:\n",
    "        return cell.find('span')['title']\n",
    "\n",
    "    #Normal games (benched) + Suspensions (by court)\n",
    "    if cell.string != None:\n",
    "        return cell.string"
   ]
  },
  {
   "cell_type": "markdown",
   "id": "359eba5f",
   "metadata": {},
   "source": [
    "# Workflow"
   ]
  },
  {
   "cell_type": "markdown",
   "id": "a2099cd7",
   "metadata": {},
   "source": [
    "Three types of transfermarkt pages used: <br>\n",
    "1. Table for the season, has all the teams listed. https://www.transfermarkt.com/serie-a/startseite/wettbewerb/IT1/plus/?saison_id=2018\n",
    "2. A teams page for a given season, has all the players. https://www.transfermarkt.com/juventus-turin/startseite/verein/506/saison_id/2018\n",
    "3. Players performance in Serie A for a given season, has all the details. https://www.transfermarkt.com/dupa/leistungsdatendetails/spieler/5023/saison/2017/verein/0/liga/0/wettbewerb/IT1/pos/0/trainer_id/0/plus/1"
   ]
  },
  {
   "cell_type": "code",
   "execution_count": null,
   "id": "15f0f6b4",
   "metadata": {},
   "outputs": [],
   "source": [
    "start = time.time()\n",
    "\n",
    "global error_no_tables\n",
    "global error_machday\n",
    "error_no_tables = 0\n",
    "error_extraction = 0\n",
    "error_table = []\n",
    "\n",
    "master_table = []\n",
    "\n",
    "#LOOP FOR SEASON -> get teams\n",
    "for season in ['2015','2016','2017','2018','2019','2020']:\n",
    "    print('SEASON: ', season)\n",
    "    season_url = 'https://www.transfermarkt.com/serie-a/startseite/wettbewerb/IT1/plus/?saison_id=' + season\n",
    "    req  = requests.get(season_url, headers=headers)\n",
    "    cont = req.content\n",
    "    soup = BeautifulSoup(cont, 'html.parser')\n",
    "    \n",
    "    #Get link to team page for each team in Serie A in this season\n",
    "    team_name_cells = soup.find_all('td', attrs={'class':'hauptlink no-border-links hide-for-small hide-for-pad'})\n",
    "    \n",
    "    #href only stores extension to main url, need to add that manualy\n",
    "    team_links = []\n",
    "    for line in team_name_cells:\n",
    "        team_links.append(line.find('a')['href'])\n",
    "    team_links = ['https://www.transfermarkt.com'+link for link in team_links]\n",
    "\n",
    "    #LOOP FOR TEAM -> get players\n",
    "    for team_url in team_links:\n",
    "        req  = requests.get(team_url, headers=headers)\n",
    "        cont = req.content\n",
    "        soup = BeautifulSoup(cont, 'html.parser')\n",
    "\n",
    "        #Get team name\n",
    "        team_name = soup.find('h1', attrs={'itemprop':'name'}).find('span').string\n",
    "\n",
    "        #Entire table -> body (no header) -> list of players (still as html)\n",
    "        main_table = soup.find('table', attrs={'class':'items'})\n",
    "        body = main_table.find('tbody')\n",
    "        player_name_cell = body.find_all('table', attrs={'class':'inline-table'})\n",
    "\n",
    "        #Extract link for each player from html\n",
    "        player_links = []\n",
    "        for player in player_name_cell:\n",
    "            link_temp = player.find('td', attrs={'class':'hauptlink'}).find('a')['href']\n",
    "            player_links.append(link_temp)\n",
    "\n",
    "        #Extract player id from link (we need id to acces their individual page)\n",
    "        player_ids = [pl.split('/')[-1] for pl in player_links]\n",
    "\n",
    "\n",
    "        #LOOP FOR PLAYERS -> get end info (injuries, teams, etc.)\n",
    "        for player_id in player_ids:\n",
    "            player_url = f'https://www.transfermarkt.com/placeholder/leistungsdatendetails/spieler/{player_id}/saison/{season}/verein/0/liga/0/wettbewerb/IT1/pos/0/trainer_id/0/plus/1'\n",
    "            req  = requests.get(player_url, headers=headers)\n",
    "            cont = req.content\n",
    "            soup = BeautifulSoup(cont, 'html.parser')\n",
    "\n",
    "            #player name\n",
    "            player_name = soup.find('h1', attrs={'itemprop':'name'}).text\n",
    "            print(player_name)\n",
    "\n",
    "            try:\n",
    "                #All tables on page -> main table -> body -> list of rows (with all info, still as html)\n",
    "                tables = soup.find_all('div', attrs={'class':'responsive-table'})\n",
    "                main_table = tables[1]\n",
    "                body = main_table.find('tbody')\n",
    "                rows = body.find_all('tr')\n",
    "            except:\n",
    "                print('^^^^^^^^ Guy has no tables ^^^^^^^^')\n",
    "                error_no_tables += 1\n",
    "                error_table.append([player_name, team_name, season, 'no_tables'])\n",
    "                continue\n",
    "\n",
    "            game_info = []\n",
    "            for row in rows:\n",
    "                try:\n",
    "                    cells = row.find_all('td') #splits row into cells\n",
    "                    match_day = cells[0].find('a').string\n",
    "                    date      = cells[1].string\n",
    "                    home_team = cells[3].find('a').string\n",
    "                    away_team = cells[5].find('a').string\n",
    "                    score     = cells[6].string.strip()\n",
    "                    status    = get_7th_cell_value(cells[7]) #this cell holds injuries, suspensions, benched etc.\n",
    "                                                             #but also position if the player played in game\n",
    "                    game_info.append([player_name, team_name, match_day, date, home_team, away_team,score, status, season])\n",
    "                except:\n",
    "                    error_extraction += 1\n",
    "                    error_table.append([player_name, team_name, season, 'extraction_error'])\n",
    "                    print('^^^^^^^^ Extraction error ^^^^^^^^')\n",
    "\n",
    "            master_table.extend(game_info)\n",
    "\n",
    "\n",
    "end = time.time()\n",
    "print('\\nProcessing time: ', end - start)\n",
    "print('Missing table errors: ', error_no_tables)\n",
    "print('Extraction errors: ', error_extraction)\n"
   ]
  },
  {
   "cell_type": "markdown",
   "id": "77d40c46",
   "metadata": {},
   "source": [
    "# Export the data"
   ]
  },
  {
   "cell_type": "code",
   "execution_count": 55,
   "id": "5da9e3e8",
   "metadata": {},
   "outputs": [],
   "source": [
    "df = pd.DataFrame(master_table, columns=['player', 'team', 'matchweek', 'match_date', 'home_team', 'away_team',\n",
    "                                        'score', 'status', 'season'])\n",
    "errors = pd.DataFrame(error_table, columns=['player', 'team', 'season', 'error_type'])"
   ]
  },
  {
   "cell_type": "code",
   "execution_count": 65,
   "id": "f617a017",
   "metadata": {},
   "outputs": [
    {
     "data": {
      "text/html": [
       "<div>\n",
       "<style scoped>\n",
       "    .dataframe tbody tr th:only-of-type {\n",
       "        vertical-align: middle;\n",
       "    }\n",
       "\n",
       "    .dataframe tbody tr th {\n",
       "        vertical-align: top;\n",
       "    }\n",
       "\n",
       "    .dataframe thead th {\n",
       "        text-align: right;\n",
       "    }\n",
       "</style>\n",
       "<table border=\"1\" class=\"dataframe\">\n",
       "  <thead>\n",
       "    <tr style=\"text-align: right;\">\n",
       "      <th></th>\n",
       "      <th>player</th>\n",
       "      <th>team</th>\n",
       "      <th>matchweek</th>\n",
       "      <th>match_date</th>\n",
       "      <th>home_team</th>\n",
       "      <th>away_team</th>\n",
       "      <th>score</th>\n",
       "      <th>status</th>\n",
       "      <th>season</th>\n",
       "    </tr>\n",
       "  </thead>\n",
       "  <tbody>\n",
       "    <tr>\n",
       "      <th>0</th>\n",
       "      <td>Neto</td>\n",
       "      <td>Juventus FC</td>\n",
       "      <td>1</td>\n",
       "      <td>Aug 23, 2015</td>\n",
       "      <td>Juventus</td>\n",
       "      <td>Udinese Calcio</td>\n",
       "      <td>0:1</td>\n",
       "      <td>on the bench</td>\n",
       "      <td>2015</td>\n",
       "    </tr>\n",
       "    <tr>\n",
       "      <th>1</th>\n",
       "      <td>Neto</td>\n",
       "      <td>Juventus FC</td>\n",
       "      <td>2</td>\n",
       "      <td>Aug 30, 2015</td>\n",
       "      <td>AS Roma</td>\n",
       "      <td>Juventus</td>\n",
       "      <td>2:1</td>\n",
       "      <td>on the bench</td>\n",
       "      <td>2015</td>\n",
       "    </tr>\n",
       "  </tbody>\n",
       "</table>\n",
       "</div>"
      ],
      "text/plain": [
       "  player         team matchweek    match_date home_team       away_team score  \\\n",
       "0   Neto  Juventus FC         1  Aug 23, 2015  Juventus  Udinese Calcio   0:1   \n",
       "1   Neto  Juventus FC         2  Aug 30, 2015   AS Roma        Juventus   2:1   \n",
       "\n",
       "         status season  \n",
       "0  on the bench   2015  \n",
       "1  on the bench   2015  "
      ]
     },
     "execution_count": 65,
     "metadata": {},
     "output_type": "execute_result"
    }
   ],
   "source": [
    "df.head(2)"
   ]
  },
  {
   "cell_type": "code",
   "execution_count": 77,
   "id": "815b354f",
   "metadata": {},
   "outputs": [],
   "source": [
    "df.to_csv('transfermarkt_data.csv', index=False)\n",
    "errors.to_csv('errors_table.csv', index=False)"
   ]
  }
 ],
 "metadata": {
  "kernelspec": {
   "display_name": "Python 3",
   "language": "python",
   "name": "python3"
  },
  "language_info": {
   "codemirror_mode": {
    "name": "ipython",
    "version": 3
   },
   "file_extension": ".py",
   "mimetype": "text/x-python",
   "name": "python",
   "nbconvert_exporter": "python",
   "pygments_lexer": "ipython3",
   "version": "3.8.8"
  }
 },
 "nbformat": 4,
 "nbformat_minor": 5
}
