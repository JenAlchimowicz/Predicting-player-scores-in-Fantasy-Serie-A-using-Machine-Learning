{
 "cells": [
  {
   "cell_type": "markdown",
   "metadata": {},
   "source": [
    "# Data Cleaning"
   ]
  },
  {
   "cell_type": "markdown",
   "metadata": {},
   "source": [
    "---"
   ]
  },
  {
   "cell_type": "markdown",
   "metadata": {},
   "source": [
    "# Overview"
   ]
  },
  {
   "cell_type": "markdown",
   "metadata": {},
   "source": [
    "In this file we clean and merge four datasets:\n",
    "- Transfermarkt webscrapped data\n",
    "- Tables containing week-by-week prices of each player\n",
    "- Tables containing all player statistics (goals, assists, yellow cards, etc.)\n",
    "- Elo ratining"
   ]
  },
  {
   "cell_type": "code",
   "execution_count": 22,
   "metadata": {
    "id": "_NlMfVSpcUDE"
   },
   "outputs": [],
   "source": [
    "import pandas as pd\n",
    "pd.set_option('display.max_columns', None)\n",
    "import numpy as np\n",
    "from unidecode import unidecode"
   ]
  },
  {
   "cell_type": "markdown",
   "metadata": {
    "id": "um95C00xKY0p"
   },
   "source": [
    "# Import Prices tables"
   ]
  },
  {
   "cell_type": "code",
   "execution_count": 23,
   "metadata": {
    "id": "UHscIf1DefKd"
   },
   "outputs": [],
   "source": [
    "def import_prices (season):\n",
    "\n",
    "    '''\n",
    "    Imports prices time series for each player in a given season\n",
    "    Output is a single dataframe\n",
    "    Expects as argument the first year of the season in format yy (for example, 19 to import season 2019-20)\n",
    "    '''\n",
    "\n",
    "    df = pd.read_excel(\"prices/Prices Season {}-{}.xlsx\".format(season, season+1))\n",
    "    df.insert(loc=4, column=\"season\", value=2000+season)\n",
    "    df = df.drop([\"quotazioneMantra\", \"fantaVoto\"], axis=1) # the former does not concern our project, the latter is the result implied by the whole scores dfs\n",
    "    df.columns = [\"id\", \"name\", \"role\", \"team\", \"season\", \"matchday\", \"price\"]\n",
    "    df = df.set_index(\"id\")\n",
    "\n",
    "    return df"
   ]
  },
  {
   "cell_type": "code",
   "execution_count": 24,
   "metadata": {
    "id": "-ZD8EtJafH7G"
   },
   "outputs": [],
   "source": [
    "prices16 = import_prices(16)\n",
    "prices17 = import_prices(17)\n",
    "prices18 = import_prices(18)\n",
    "prices19 = import_prices(19)\n",
    "\n",
    "prices = pd.concat([prices16, prices17, prices18, prices19])\n",
    "prices.reset_index(inplace=True)"
   ]
  },
  {
   "cell_type": "code",
   "execution_count": 25,
   "metadata": {
    "id": "kV8CKT-DdOjE"
   },
   "outputs": [],
   "source": [
    "prices_list = []\n",
    "for index,row in prices.iterrows():\n",
    "    temp = list(zip(row['matchday'].split(','), row['price'].split(',')))\n",
    "    for touple in temp:\n",
    "        prices_list.append([row['name'], row['season'], touple[0], touple[1]])"
   ]
  },
  {
   "cell_type": "code",
   "execution_count": 26,
   "metadata": {
    "id": "TOvHgX2wdS-_"
   },
   "outputs": [],
   "source": [
    "price = pd.DataFrame(prices_list,  columns=['player', 'season', 'matchweek', 'price'])\n",
    "price['season']    = price['season'].apply(lambda x: int(x))\n",
    "price['matchweek'] = price['matchweek'].apply(lambda x: int(x))\n",
    "price['price']     = price['price'].apply(lambda x: float(x))\n",
    "price['player']    = price['player'].apply(lambda x: x.upper())"
   ]
  },
  {
   "cell_type": "code",
   "execution_count": 27,
   "metadata": {
    "id": "l-3YTTQE_pJY"
   },
   "outputs": [],
   "source": [
    "# Sometimes player name has an apostrophie at the end, removing it improves the merge\n",
    "# with transfermarkt table\n",
    "def remove_apostrophe(text):\n",
    "    if text[-1] == \"'\":\n",
    "        return text[:-1]\n",
    "    else:\n",
    "        return text\n",
    "\n",
    "price['player'] = price['player'].apply(lambda x: remove_apostrophe(x))"
   ]
  },
  {
   "cell_type": "markdown",
   "metadata": {
    "id": "4J84mNx3IIm1"
   },
   "source": [
    "OBSERVING PRICE DF\n",
    "\n",
    "*   \"id\" is unique to each player, can be used in place of \"name\" to join prices and scores dfs\n",
    "*   we have prices only for matchdays in which the player touched the pitch; for the rest the prices remain the same (to be confirmed) but it might be useful to store arrays all of the same lenght\n",
    "*   \"matchday\" and \"prices\" already imply the number of games played by each player at each point of the season: counting within these arrays should be more efficient than counting in the whole scores df\n",
    "\n",
    "\n",
    "\n"
   ]
  },
  {
   "cell_type": "markdown",
   "metadata": {
    "id": "GPInPUgiKhoN"
   },
   "source": [
    "# Import Scores"
   ]
  },
  {
   "cell_type": "code",
   "execution_count": 28,
   "metadata": {
    "id": "tPWuhiyUvTT0"
   },
   "outputs": [],
   "source": [
    "def import_scores_matchday (season, matchday):\n",
    "\n",
    "    # import the data, change the headers and add three empty columns: \"team\", \"coach\" and \"coach_score\"\n",
    "    # in season 2019-20 they started dividing in two columns assists during action and on free-kick/corner: to account for that, we add a columns full of 0s in the years before\n",
    "    df = pd.read_excel(f\"Scores/Scores 20{season}-{season+1}/Voti_Fantacalcio_Stagione_20{season}-{season+1}_Giornata_{matchday}.xlsx\")\n",
    "    df = df.drop([0,1,2]) # drop the headers of the document\n",
    "    if (season != 19) and (season != 20):\n",
    "        df[\"assist_fk\"] = 0\n",
    "        df.columns = [\"id\",\"role\",\"player\",\"base_score\",\"goal_scored\",\"goal_conceded\",\"penalty_saved\",\"penalty_failed\", \"penalty_scored\", \"own_goal\",\"yellow_card\",\"red_card\",\"assist\",\"goal_decisive_draw\",\"goal_decisive_win\",\"assist_fk\"]\n",
    "    else:\n",
    "        df.columns = [\"id\",\"role\",\"player\",\"base_score\",\"goal_scored\",\"goal_conceded\",\"penalty_saved\",\"penalty_failed\", \"penalty_scored\", \"own_goal\",\"yellow_card\",\"red_card\",\"assist\",\"assist_fk\",\"goal_decisive_draw\",\"goal_decisive_win\"]\n",
    "    df[\"team\"] = np.nan\n",
    "    df[\"coach\"] = np.nan\n",
    "    df[\"coach_score\"] = np.nan\n",
    "\n",
    "    # we want team's name and coach's name and score to appear in the row of each player\n",
    "    # currently: team appears as header above its players and coach; the coach always represents the last row of each team; a second header appears under the name of each team, above its players and coach\n",
    "    # thus, we can retrieve indeces of headers and coaches and use those to delimit the rows which refer to each team\n",
    "    # when the info have been copied to the players' rows, we can delete the headers and the coaches' rows\n",
    "    team_delimiters = zip(df[df[\"id\"]==\"Cod.\"].index, df[df[\"role\"]==\"ALL\"].index)\n",
    "    for team, coach in team_delimiters:\n",
    "        team_name = df[\"id\"].loc[team-1]\n",
    "        coach_name = df[\"player\"].loc[coach]\n",
    "        coach_score = df[\"base_score\"].loc[coach]\n",
    "        df.loc[team+1:coach, \"team\"] = team_name\n",
    "        df.loc[team+1:coach, \"coach\"] = coach_name\n",
    "        df.loc[team+1:coach, \"coach_score\"] = coach_score\n",
    "        df = df.drop([team-1, team, coach])\n",
    "    \n",
    "    # now that the dataframe is formatted correctly, we sum the two columns for assists (in most cases, one is made of 0s, we added it some lines above) and keep only one\n",
    "    df[\"assist\"] = df[\"assist\"] + df[\"assist_fk\"]\n",
    "    df = df.drop([\"assist_fk\"], axis=1)\n",
    "        \n",
    "    # modify the format of player's name and team in preparation to join with TransferMarkt data\n",
    "    df[\"team\"] = df[\"team\"].apply(lambda x: x.upper())\n",
    "    #df[\"player\"] = df[\"player\"].apply(lambda x: x.capitalize() if x == \"ZUCULINI F\" or \"ZUCULINI B\" else (x.capitalize() if len(x.split(\" \")) == 1 else x.capitalize() if len(x.split(\" \")[1]) <= 2 else x.split(\" \")[1].capitalize())))\n",
    "    #df[\"player\"] = df[\"player\"].apply(lambda x: x.capitalize() if len(x.split(\" \")) == 1 else (x.capitalize() if len(x.split(\" \")[1]) <= 2 else x.split(\" \")[1].capitalize()))\n",
    "    #df = avoid_duplicate_names(df)\n",
    "    \n",
    "    # add columns reporting season and matchday\n",
    "    df[\"season\"] = 2000+season\n",
    "    df[\"matchweek\"] = matchday\n",
    "\n",
    "    # translate column \"role\", as the abbreviations refer to italian words\n",
    "    df.loc[df[\"role\"] == \"P\", \"role\"] = \"G\"\n",
    "    df.loc[df[\"role\"] == \"C\", \"role\"] = \"M\"\n",
    "\n",
    "    return df"
   ]
  },
  {
   "cell_type": "code",
   "execution_count": 29,
   "metadata": {
    "id": "m6VOXQHWpegl"
   },
   "outputs": [],
   "source": [
    "def import_scores_season (season):\n",
    "\n",
    "  '''\n",
    "  Uses function \"import_scores_matchday\" 38 times to import all matchdays in one season\n",
    "  Output is a single dataframe\n",
    "  Expects as argument the first year of the season in format yy (for example, 19 to import season 2019-20)\n",
    "  '''\n",
    "\n",
    "  df = pd.DataFrame()\n",
    "  \n",
    "  # import and clean the scores of each matchday; add columns \"season\" and \"matchday\"\n",
    "  # then, concatenate all matchdays of one season in a single df\n",
    "  for matchday in range(38): #38 matchdays for each season\n",
    "    df_matchday = import_scores_matchday(season, matchday+1)\n",
    "    df = pd.concat([df, df_matchday])\n",
    "  \n",
    "  return df.sort_index()"
   ]
  },
  {
   "cell_type": "code",
   "execution_count": 30,
   "metadata": {
    "colab": {
     "base_uri": "https://localhost:8080/",
     "height": 536
    },
    "id": "y_PIIVu-FLvt",
    "outputId": "85028e54-9956-4441-8f5e-2d47b840a570"
   },
   "outputs": [
    {
     "data": {
      "text/html": [
       "<div>\n",
       "<style scoped>\n",
       "    .dataframe tbody tr th:only-of-type {\n",
       "        vertical-align: middle;\n",
       "    }\n",
       "\n",
       "    .dataframe tbody tr th {\n",
       "        vertical-align: top;\n",
       "    }\n",
       "\n",
       "    .dataframe thead th {\n",
       "        text-align: right;\n",
       "    }\n",
       "</style>\n",
       "<table border=\"1\" class=\"dataframe\">\n",
       "  <thead>\n",
       "    <tr style=\"text-align: right;\">\n",
       "      <th></th>\n",
       "      <th>id</th>\n",
       "      <th>role</th>\n",
       "      <th>player</th>\n",
       "      <th>base_score</th>\n",
       "      <th>goal_scored</th>\n",
       "      <th>goal_conceded</th>\n",
       "      <th>penalty_saved</th>\n",
       "      <th>penalty_failed</th>\n",
       "      <th>penalty_scored</th>\n",
       "      <th>own_goal</th>\n",
       "      <th>yellow_card</th>\n",
       "      <th>red_card</th>\n",
       "      <th>assist</th>\n",
       "      <th>goal_decisive_draw</th>\n",
       "      <th>goal_decisive_win</th>\n",
       "      <th>team</th>\n",
       "      <th>coach</th>\n",
       "      <th>coach_score</th>\n",
       "      <th>season</th>\n",
       "      <th>matchweek</th>\n",
       "    </tr>\n",
       "  </thead>\n",
       "  <tbody>\n",
       "    <tr>\n",
       "      <th>5</th>\n",
       "      <td>4</td>\n",
       "      <td>G</td>\n",
       "      <td>SPORTIELLO</td>\n",
       "      <td>4.5</td>\n",
       "      <td>0</td>\n",
       "      <td>4</td>\n",
       "      <td>0</td>\n",
       "      <td>0</td>\n",
       "      <td>0</td>\n",
       "      <td>0</td>\n",
       "      <td>0</td>\n",
       "      <td>0</td>\n",
       "      <td>0</td>\n",
       "      <td>0</td>\n",
       "      <td>0</td>\n",
       "      <td>ATALANTA</td>\n",
       "      <td>GASPERINI</td>\n",
       "      <td>5.5</td>\n",
       "      <td>2016</td>\n",
       "      <td>1</td>\n",
       "    </tr>\n",
       "    <tr>\n",
       "      <th>5</th>\n",
       "      <td>4</td>\n",
       "      <td>G</td>\n",
       "      <td>SPORTIELLO</td>\n",
       "      <td>6</td>\n",
       "      <td>0</td>\n",
       "      <td>1</td>\n",
       "      <td>0</td>\n",
       "      <td>0</td>\n",
       "      <td>0</td>\n",
       "      <td>0</td>\n",
       "      <td>0</td>\n",
       "      <td>0</td>\n",
       "      <td>0</td>\n",
       "      <td>0</td>\n",
       "      <td>0</td>\n",
       "      <td>ATALANTA</td>\n",
       "      <td>GASPERINI</td>\n",
       "      <td>7.0</td>\n",
       "      <td>2016</td>\n",
       "      <td>18</td>\n",
       "    </tr>\n",
       "  </tbody>\n",
       "</table>\n",
       "</div>"
      ],
      "text/plain": [
       "  id role      player base_score goal_scored goal_conceded penalty_saved  \\\n",
       "5  4    G  SPORTIELLO        4.5           0             4             0   \n",
       "5  4    G  SPORTIELLO          6           0             1             0   \n",
       "\n",
       "  penalty_failed penalty_scored own_goal yellow_card red_card assist  \\\n",
       "5              0              0        0           0        0      0   \n",
       "5              0              0        0           0        0      0   \n",
       "\n",
       "  goal_decisive_draw goal_decisive_win      team      coach  coach_score  \\\n",
       "5                  0                 0  ATALANTA  GASPERINI          5.5   \n",
       "5                  0                 0  ATALANTA  GASPERINI          7.0   \n",
       "\n",
       "   season  matchweek  \n",
       "5    2016          1  \n",
       "5    2016         18  "
      ]
     },
     "execution_count": 30,
     "metadata": {},
     "output_type": "execute_result"
    }
   ],
   "source": [
    "scores16 = import_scores_season(16)\n",
    "scores17 = import_scores_season(17)\n",
    "scores18 = import_scores_season(18)\n",
    "scores19 = import_scores_season(19)\n",
    "\n",
    "scores = pd.concat([scores16, scores17, scores18, scores19])\n",
    "scores.head(2)"
   ]
  },
  {
   "cell_type": "code",
   "execution_count": 31,
   "metadata": {
    "id": "dhG9bcn-JPWb"
   },
   "outputs": [],
   "source": [
    "#1 null value for 'player' <- remove that row\n",
    "scores = scores[scores.player.notnull()]\n",
    "\n",
    "# Sometimes player name has an apostrophie at the end, removing it improves the merge\n",
    "# with transfermarkt table\n",
    "scores['player'] = scores['player'].apply(lambda x: remove_apostrophe(x))"
   ]
  },
  {
   "cell_type": "markdown",
   "metadata": {
    "id": "-0Q3a8UULWBw"
   },
   "source": [
    "OBSERVING SCORES DF\n",
    "\n",
    "*   \"base_score\" is not entirely made of floats: some 6* appear. That happens when a player enters the pitch for just a few minutes and is therefore not possible to evaluate his performance.\n",
    "Normally, their scores are not counted, but if they manage to get a yellow card in those few minutes, they are attributed 5.5.\n",
    "The column needs to be cleaned and we need to decide whether to count 6* within players appearences or not.\n",
    "*   \"goal_conceded\" and \"penalty_saved\" of course concern only goalkeepers (\"role\" == G).\n",
    "*   in \"coach\" we might retain coach's unique id, instead of name, but we'd need to be careful not to treat that as a continous variable.\n",
    "The same goes for \"team\", except in that case we'd also need to generate an index ourselves.\n",
    "*   \"role\" might change from one year to the other: it's not frequent, but it still happens. We need to track a couple players that switched role within the training dataset and make sure the model does not screw up on that.\n",
    "*   \"goal_decisive_draw\"/\"goal_decisive_win\" are binary variables representing whether the goal scored by the player was the last one scored in a drawn match/was the n+1 goal of the winning team (where n is the number of goals scored by the losing team). Some people associate a small bonus to them, which I would avoid for the scope of the project, as that would increase volatility of players' scores. Nevertheless, I left them there as they might turn out to be useful as predictors.\n",
    "\n",
    "\n",
    "\n",
    "\n"
   ]
  },
  {
   "cell_type": "markdown",
   "metadata": {
    "id": "LlUV6acFRjAH"
   },
   "source": [
    "# Import Data from TransferMarkt"
   ]
  },
  {
   "cell_type": "code",
   "execution_count": 32,
   "metadata": {
    "id": "hYl6-OD9Roqq"
   },
   "outputs": [],
   "source": [
    "transfermarkt = pd.read_csv(\"ready_datasets/transfermarkt_data.csv\")"
   ]
  },
  {
   "cell_type": "code",
   "execution_count": 33,
   "metadata": {
    "id": "Pnxl9zyziYKD"
   },
   "outputs": [],
   "source": [
    "def modify_player (data):\n",
    "    \n",
    "    # the various conditions of this first lambda function take care of a few players who both have the same name and played in the same teams\n",
    "    # the last else statement is the more general condition that holds for most names: the player's names are split on the last whitespace to select the surname and stripped of accents using the function unidecode\n",
    "    data[\"player\"] = transfermarkt[\"player\"].apply(lambda x: \"ZUCULINI F\" if x == \"Franco Zuculini\" else (\"ZUCULINI B\" if x == \"Bruno Zuculini\" else (\"PELLEGRINI LO\" if x == \"Lorenzo Pellegrini\" else (\"PELLEGRINI LU\" if x == \"Luca Pellegrini\" else (\"FELIPE ANDERSON\" if x == \"Felipe Anderson\" else (\"ANDERSON A\" if x == \"André Anderson\" else (\"ANDERSON D\" if x == \"Djavan Anderson\" else (unidecode(unidecode(x.split(\" \")[-1], \"utf-8\").replace(\"'\",\"\").upper())))))))))\n",
    "    \n",
    "    # there a few cases in which the general rule does not work, because the last name is formed by two words, often by a prefix\n",
    "    # the easiest solution is to address these manually\n",
    "    data.loc[(data[\"player\"] == \"ALONSO\"), \"player\"] = \"MARCOS ALONSO\"\n",
    "    data.loc[(data[\"player\"] == \"VRIJ\"), \"player\"] = \"DE VRIJ\"\n",
    "    data.loc[(data[\"player\"] == \"AVEST\"), \"player\"] = \"TER AVEST\"\n",
    "    data.loc[(data[\"player\"] == \"BECAO\"), \"player\"] = \"RODRIGO BECAO\"\n",
    "    data.loc[(data[\"player\"] == \"CARMINE\"), \"player\"] = \"DI CARMINE\"\n",
    "    data.loc[(data[\"player\"] == \"CAVIGLIA\"), \"player\"] = \"NICOLUSSI CAVIGLIA\"\n",
    "    data.loc[(data[\"player\"] == \"PAUL\"), \"player\"] = \"DE PAUL\"    \n",
    "    data.loc[(data[\"player\"] == \"MARIO\"), \"player\"] = \"JOAO MARIO\"\n",
    "    data.loc[(data[\"player\"] == \"ADRIANO\"), \"player\"] = \"LUIZ ADRIANO\"\n",
    "    data.loc[(data[\"player\"] == \"ALBERTO\"), \"player\"] = \"LUIS ALBERTO\"    \n",
    "    data.loc[(data[\"player\"] == \"VALERO\"), \"player\"] = \"BORJA VALERO\"\n",
    "    data.loc[(data[\"player\"] == \"FALQUE\"), \"player\"] = \"IAGO FALQUE\"\n",
    "    data.loc[(data[\"player\"] == \"ROON\"), \"player\"] = \"DE ROON\"\n",
    "    data.loc[(data[\"player\"] == \"VELOSO\"), \"player\"] = \"MIGUEL VELOSO\"    \n",
    "    data.loc[(data[\"player\"] == \"LARSEN\"), \"player\"] = \"STRYGER LARSEN\"    \n",
    "    data.loc[(data[\"player\"] == \"SHAARAWY\"), \"player\"] = \"EL SHAARAWY\" \n",
    "    data.loc[(data[\"player\"] == \"LEIVA\"), \"player\"] = \"LUCAS LEIVA\"    \n",
    "    data.loc[(data[\"player\"] == \"JESUS\"), \"player\"] = \"JUAN JESUS\"    \n",
    "    data.loc[(data[\"player\"] == \"MAIO\"), \"player\"] = \"DE MAIO\"\n",
    "    data.loc[(data[\"player\"] == \"RUI\"), \"player\"] = \"MARIO RUI\"\n",
    "    data.loc[(data[\"player\"] == \"LORENZO\"), \"player\"] = \"DI LORENZO\"    \n",
    "    data.loc[(data[\"player\"] == \"SCIGLIO\"), \"player\"] = \"DE SCIGLIO\"    \n",
    "    data.loc[(data[\"player\"] == \"PERES\"), \"player\"] = \"BRUNO PERES\"    \n",
    "    data.loc[(data[\"player\"] == \"HUGO\"), \"player\"] = \"VITOR HUGO\"    \n",
    "    data.loc[(data[\"player\"] == \"HENRIQUE\"), \"player\"] = \"BRUNO HENRIQUE\"    \n",
    "    data.loc[(data[\"player\"] == \"LIGT\"), \"player\"] = \"DE LIGT\"\n",
    "    data.loc[(data[\"player\"] == \"GUZMAN\"), \"player\"] = \"DE GUZMAN\"\n",
    "    data.loc[(data[\"player\"] == \"DIAS\"), \"player\"] = \"GIL DIAS\"    \n",
    "    data.loc[(data[\"player\"] == \"GUMINA\"), \"player\"] = \"LA GUMINA\"     \n",
    "    data.loc[(data[\"player\"] == \"KADDOURI\"), \"player\"] = \"EL KADDOURI\"    \n",
    "    data.loc[(data[\"player\"] == \"SOSA\"), \"player\"] = \"JOSE SOSA\"    \n",
    "    data.loc[(data[\"player\"] == \"GAUDIO\"), \"player\"] = \"DI GAUDIO\"\n",
    "    data.loc[(data[\"player\"] == \"FASO\"), \"player\"] = \"LO FASO\"\n",
    "    data.loc[(data[\"player\"] == \"FLORES\"), \"player\"] = \"FLORO FLORES\"\n",
    "    data.loc[(data[\"player\"] == \"MANTIA\"), \"player\"] = \"LA MANTIA\"\n",
    "    data.loc[(data[\"player\"] == \"YAMIQ\"), \"player\"] = \"EL YAMIQ\"\n",
    "    data.loc[(data[\"player\"] == \"EVANGELISTA\"), \"player\"] = \"LUCAS EVANGELISTA\"\n",
    "    data.loc[(data[\"player\"] == \"MELO\"), \"player\"] = \"FELIPE MELO\"\n",
    "    data.loc[(data[\"player\"] == \"MORENO\"), \"player\"] = \"HECTOR MORENO\"\n",
    "    data.loc[(data[\"player\"] == \"WIEL\"), \"player\"] = \"VAN DER WIEL\"\n",
    "    data.loc[(data[\"player\"] == \"SOARES\"), \"player\"] = \"CEDRIC SOARES\"\n",
    "    data.loc[(data[\"player\"] == \"JORDAO\"), \"player\"] = \"BRUNO JORDAO\"\n",
    "    data.loc[(data[\"player\"] == \"TAVARES\"), \"player\"] = \"JUNIOR TAVARES\"\n",
    "    data.loc[(data[\"player\"] == \"CABRAL\"), \"player\"] = \"RAFAEL CABRAL\"\n",
    "    data.loc[(data[\"player\"] == \"CRUZ\"), \"player\"] = \"DA CRUZ\"\n",
    "    data.loc[(data[\"player\"] == \"PEREZ\"), \"player\"] = \"CARLES PEREZ\"    \n",
    "    data.loc[(data[\"player\"] == \"PINTO\"), \"player\"] = \"DEL PINTO\"\n",
    "    data.loc[(data[\"player\"] == \"FELIPPE\", \"player\")] = \"LUCAS FELIPPE\"\n",
    "    \n",
    "    # the list that follows takes care of those last names that are duplicated, but for which the combination name + team is still a unique identifier\n",
    "    # once again, the easiest solution is to address these cases manually\n",
    "    data.loc[(data[\"player\"] == \"FERNANDES\") & (data[\"team\"] == \"SAMPDORIA\"), \"player\"] = \"BRUNO FERNANDES\"    \n",
    "    data.loc[(data[\"player\"] == \"SILVESTRI\") & (data[\"team\"] == \"TORINO\"), \"player\"] = \"DE SILVESTRI\"\n",
    "    data.loc[(data[\"player\"] == \"OLSEN\") & (data[\"team\"] == \"BOLOGNA\"), \"player\"] = \"SKOV OLSEN\"   \n",
    "    data.loc[(data[\"player\"] == \"RODIRGUEZ\") & (data[\"team\"] == \"CHIEVO\"), \"player\"] = \"RODRIGUEZ A\"\n",
    "    data.loc[((data[\"player\"] == \"COSTA\") & (data[\"team\"] == \"CHIEVO\")) | ((data[\"player\"] == \"COSTA\") & (data[\"team\"] == \"SPAL\")), \"player\"] = \"COSTA F\"\n",
    "    data.loc[(data[\"player\"] == \"RADU\") & (data[\"team\"] == \"GENOA\"), \"player\"] = \"RADU I\"\n",
    "    data.loc[(data[\"player\"] == \"PEREIRA\") & (data[\"team\"] == \"JUVENTUS\"), \"player\"] = \"MATHEUS PEREIRA\"\n",
    "    data.loc[(data[\"player\"] == \"ALVES\") & (data[\"team\"] == \"JUVENTUS\"), \"player\"] = \"DANI ALVES\"\n",
    "    data.loc[(data[\"player\"] == \"GOMEZ\") & (data[\"team\"] == \"MILAN\"), \"player\"] = \"GOMEZ G\"\n",
    "    data.loc[(data[\"player\"] == \"ROSSI\") & (data[\"team\"] == \"LAZIO\"), \"player\"] = \"ROSSI A\"\n",
    "    data.loc[(data[\"player\"] == \"SILVA\") & (data[\"team\"] == \"PALERMO\"), \"player\"] = \"STEFAN SILVA\"\n",
    "    data.loc[((data[\"player\"] == \"SIMIC\") & (data[\"team\"] == \"SAMPDORIA\")) | ((data[\"player\"] == \"SIMIC\") & (data[\"team\"] == \"SPAL\")), \"player\"] = \"SIMIC L\"\n",
    "    data.loc[(data[\"player\"] == \"RODRIGUEZ\") & (data[\"team\"] == \"MILAN\"), \"player\"] = \"RODRIGUEZ R\"\n",
    "    data.loc[((data[\"player\"] == \"MILINKOVIC-SAVIC\") & (data[\"team\"] == \"Torino\")) | ((data[\"player\"] == \"MILINKOVIC-SAVIC\") & (data[\"team\"] == \"SPAL\")), \"player\"] = \"MILINKOVIC-SAVIC V\"\n",
    "    data.loc[(data[\"player\"] == \"CODA\") & (data[\"team\"] == \"BENEVENTO\"), \"player\"] = \"CODA M\"\n",
    "    data.loc[(data[\"player\"] == \"COSTA\") & (data[\"team\"] == \"JUVENTUS\"), \"player\"] = \"DOUGLAS COSTA\"\n",
    "    data.loc[(data[\"player\"] == \"ROSSI\") & (data[\"team\"] == \"ATALANTA\"), \"player\"] = \"ROSSI F\"\n",
    "    data.loc[(data[\"player\"] == \"KEITA\") & (data[\"team\"] == \"BOLOGNA\"), \"player\"] = \"KEITA C\"\n",
    "    data.loc[(data[\"player\"] == \"NETO\") & (data[\"team\"] == \"LAZIO\"), \"player\"] = \"PEDRO NETO\"\n",
    "    data.loc[(data[\"player\"] == \"FELIPE\") & (data[\"team\"] == \"LAZIO\"), \"player\"] = \"LUIZ FELIPE\"\n",
    "    data.loc[(data[\"player\"] == \"LOPEZ\") & (data[\"team\"] == \"INTER\"), \"player\"] = \"LISANDRO LOPEZ\"\n",
    "    data.loc[(data[\"player\"] == \"SILVA\") & (data[\"team\"] == \"ROMA\"), \"player\"] = \"SILVA J\"\n",
    "    data.loc[(data[\"player\"] == \"MARTINEZ\") & (data[\"team\"] == \"INTER\"), \"player\"] = \"MARTINEZ L\"\n",
    "    data.loc[(data[\"player\"] == \"BERISHA\") & (data[\"team\"] == \"LAZIO\"), \"player\"] = \"BERISHA V\"\n",
    "    data.loc[(data[\"player\"] == \"RIGONI\") & (data[\"team\"] == \"ATALANTA\"), \"player\"] = \"RIGONI E\"\n",
    "    data.loc[(data[\"player\"] == \"VERDE\") & (data[\"team\"] == \"CAGLIARI\"), \"player\"] = \"VERDE F\"\n",
    "    data.loc[(data[\"player\"] == \"TELLO\") & (data[\"team\"] == \"FIORENTINA\"), \"player\"] = \"TELLO C\"\n",
    "    data.loc[(data[\"player\"] == \"ROMERO\") & (data[\"team\"] == \"CROTONE\"), \"player\"] = \"ROMERO A\"\n",
    "    data.loc[(data[\"player\"] == \"SANDRO\") & (data[\"team\"] == \"JUVENTUS\"), \"player\"] = \"ALEX SANDRO\"\n",
    "    data.loc[(data[\"player\"] == \"COSTA\") & (data[\"team\"] == \"BOLOGNA\"), \"player\"] = \"DA COSTA\"\n",
    "    data.loc[(data[\"player\"] == \"ROMAGNOLI\") & (data[\"team\"] == \"BOLOGNA\"), \"player\"] = \"ROMAGNOLI S\"\n",
    "    data.loc[(data[\"player\"] == \"RODRIGUEZ\") & (data[\"team\"] == \"FIORENTINA\"), \"player\"] = \"RODRIGUEZ GO\"\n",
    "    data.loc[(data[\"player\"] == \"ALVAREZ\") & (data[\"team\"] == \"SAMPDORIA\"), \"player\"] = \"ALVAREZ R\"\n",
    "    data.loc[((data[\"player\"] == \"ALVES\") & (data[\"team\"] == \"PARMA\")) | ((data[\"player\"] == \"ALVES\") & (data[\"team\"] == \"CAGLIARI\")), \"player\"] = \"BRUNO ALVES\"\n",
    "    data.loc[(data[\"player\"] == \"ANDERSON\") & (data[\"team\"] == \"LAZIO\"), \"player\"] = \"FELIPE ANDERSON\"\n",
    "    data.loc[((data[\"player\"] == \"BALDE\") & (data[\"team\"] == \"SAMPDORIA\")) | ((data[\"player\"] == \"BALDE\") & (data[\"team\"] == \"LAZIO\")) | ((data[\"player\"] == \"BALDE\") & (data[\"team\"] == \"INTER\")), \"player\"] = \"KEITA B\"\n",
    "    data.loc[(data[\"player\"] == \"BALOGH\") & (data[\"team\"] == \"PALERMO\"), \"player\"] = \"BALOGH N\"\n",
    "    data.loc[(data[\"player\"] == \"BERISHA\") & (data[\"team\"] == \"SPAL\"), \"player\"] = \"BERISHA E\"\n",
    "    data.loc[(data[\"player\"] == \"CARACCIOLO\") & (data[\"team\"] == \"VERONA\"), \"player\"] = \"CARACCIOLO A\"\n",
    "    data.loc[(data[\"player\"] == \"CHIARA\") & (data[\"team\"] == \"BENEVENTO\"), \"player\"] = \"DI CHIARA\"\n",
    "    data.loc[(data[\"player\"] == \"CIOFANI\") & (data[\"team\"] == \"FROSINONE\"), \"player\"] = \"CIOFANI D\"\n",
    "    data.loc[(data[\"player\"] == \"CISSE\") & (data[\"team\"] == \"BENEVENTO\"), \"player\"] = \"CISSE K\"\n",
    "    data.loc[(data[\"player\"] == \"COLOMBO\") & (data[\"team\"] == \"CAGLIARI\"), \"player\"] = \"COLOMBO R\"\n",
    "    data.loc[(data[\"player\"] == \"DONNARUMMA\") & (data[\"team\"] == \"MILAN\"), \"player\"] = \"DONNARUMMA G\"\n",
    "    data.loc[(data[\"player\"] == \"PEZZELLA\") & (data[\"team\"] == \"FIORENTINA\"), \"player\"] = \"PEZZELLA GER\"\n",
    "    data.loc[((data[\"player\"] == \"ZAPATA\") & (data[\"team\"] == \"UDINESE\")) | ((data[\"player\"] == \"ZAPATA\") & (data[\"team\"] == \"SAMPDORIA\")) | ((data[\"player\"] == \"ZAPATA\") & (data[\"team\"] == \"ATALANTA\")), \"player\"] = \"ZAPATA D\"\n",
    "    data.loc[((data[\"player\"] == \"FRANCESCO\") & (data[\"team\"] == \"BOLOGNA\")) | ((data[\"player\"] == \"FRANCESCO\") & (data[\"team\"] == \"SASSUOLO\")) | ((data[\"player\"] == \"FRANCESCO\") & (data[\"team\"] == \"SPAL\")), \"player\"] = \"DI FRANCESCO F\"\n",
    "    data.loc[((data[\"player\"] == \"FERRARI\") & (data[\"team\"] == \"CROTONE\")) | ((data[\"player\"] == \"FERRARI\") & (data[\"team\"] == \"SAMPDORIA\")) | ((data[\"player\"] == \"FERRARI\") & (data[\"team\"] == \"SASSUOLO\")), \"player\"] = \"FERRARI G\"\n",
    "    data.loc[(data[\"player\"] == \"LUKAKU\") & (data[\"team\"] == \"LAZIO\"), \"player\"] = \"LUKAKU J\"\n",
    "    data.loc[((data[\"player\"] == \"TRAORE\") & (data[\"team\"] == \"EMPOLI\")) | ((data[\"player\"] == \"TRAORE\") & (data[\"team\"] == \"SASSUOLO\")), \"player\"] = \"TRAORE HJ\"\n",
    "    data.loc[((data[\"player\"] == \"ZAPATA\") & (data[\"team\"] == \"MILAN\")) | ((data[\"player\"] == \"ZAPATA\") & (data[\"team\"] == \"GENOA\")), \"player\"] = \"ZAPATA C\"\n",
    "    data.loc[((data[\"player\"] == \"PEZZELLA\") & (data[\"team\"] == \"PALERMO\")) | ((data[\"player\"] == \"PEZZELLA\") & (data[\"team\"] == \"UDINESE\")) | ((data[\"player\"] == \"PEZZELLA\") & (data[\"team\"] == \"GENOA\")) | ((data[\"player\"] == \"PEZZELLA\") & (data[\"team\"] == \"PARMA\")), \"player\"] = \"PEZZELLA GIU\"\n",
    "    data.loc[((data[\"player\"] == \"GONZALEZ\") & (data[\"team\"] == \"PALERMO\")) | ((data[\"player\"] == \"GONZALEZ\") & (data[\"team\"] == \"BOLOGNA\")), \"player\"] = \"GONZALEZ G\"\n",
    "    data.loc[(data[\"player\"] == \"RIGONI\") & (data[\"team\"] == \"CHIEVO\"), \"player\"] = \"RIGONI N\"\n",
    "    data.loc[(data[\"player\"] == \"GOMIS\") & (data[\"team\"] == \"SPAL\"), \"player\"] = \"GOMIS A\"\n",
    "    data.loc[((data[\"player\"] == \"FERRARI\") & (data[\"team\"] == \"BOLOGNA\")) | ((data[\"player\"] == \"FERRARI\") & (data[\"team\"] == \"VERONA\")) | ((data[\"player\"] == \"FERRARI\") & (data[\"team\"] == \"SAMPDORIA\")), \"player\"] = \"FERRARI A\"\n",
    "    data.loc[((data[\"player\"] == \"RICCI\") & (data[\"team\"] == \"SASSUOLO\")) | ((data[\"player\"] == \"RICCI\") & (data[\"team\"] == \"CROTONE\")) | ((data[\"player\"] == \"RICCI\") & (data[\"team\"] == \"GENOA\")), \"player\"] = \"RICCI F\"\n",
    "    data.loc[(data[\"player\"] == \"SANCHEZ\") & (data[\"team\"] == \"FIORENTINA\"), \"player\"] = \"SANCHEZ C\"\n",
    "    data.loc[(data[\"player\"] == \"CAN\") & (data[\"team\"] == \"JUVENTUS\"), \"player\"] = \"CAN \" #cialtroni...\n",
    "    data.loc[((data[\"player\"] == \"LOPEZ\") & (data[\"team\"] == \"UDINESE\")) | ((data[\"player\"] == \"LOPEZ\") & (data[\"team\"] == \"TORINO\")), \"player\"] = \"MAXI LOPEZ\"\n",
    "    data.loc[(data[\"player\"] == \"HERNANDEZ\") & (data[\"team\"] == \"MILAN\"), \"player\"] = \"HERNANDEZ T\"\n",
    "    data.loc[((data[\"player\"] == \"PEREIRA\") & (data[\"team\"] == \"SAMPDORIA\")) | ((data[\"player\"] == \"PEREIRA\") & (data[\"team\"] == \"GENOA\")), \"player\"] = \"PEREIRA P\"\n",
    "    data.loc[(data[\"player\"] == \"LOPEZ\") & (data[\"team\"] == \"ROMA\"), \"player\"] = \"PAU LOPEZ\"\n",
    "    data.loc[(data[\"player\"] == \"LEAO\") & (data[\"team\"] == \"MILAN\"), \"player\"] = \"RAFAEL LEAO\"\n",
    "    data.loc[(data[\"player\"] == \"DONNARUMMA\") & (data[\"team\"] == \"BRESCIA\"), \"player\"] = \"DONNARUMMA AL\"\n",
    "    data.loc[(data[\"player\"] == \"OLIVERA\") & (data[\"team\"] == \"FIORENTINA\"), \"player\"] = \"OLIVERA M\"\n",
    "    data.loc[(data[\"player\"] == \"EMERSON\") & (data[\"team\"] == \"ROMA\"), \"player\"] = \"EMERSON P\"\n",
    "    data.loc[((data[\"player\"] == \"RIGONI\") & (data[\"team\"] == \"GENOA\")) | ((data[\"player\"] == \"RIGONI\") & (data[\"team\"] == \"PARMA\")), \"player\"] = \"RIGONI L\"\n",
    "    data.loc[((data[\"player\"] == \"GENNARO\") & (data[\"team\"] == \"CAGLIARI\")) | ((data[\"player\"] == \"GENNARO\") & (data[\"team\"] == \"LAZIO\")), \"player\"] = \"DI GENNARO D\"\n",
    "    data.loc[(data[\"player\"] == \"LUIZ\") & (data[\"team\"] == \"SPAL\"), \"player\"] = \"EVERTON LUIZ\"\n",
    "    data.loc[((data[\"player\"] == \"MAURI\") & (data[\"team\"] == \"MILAN\")) | ((data[\"player\"] == \"MAURI\") & (data[\"team\"] == \"EMPOLI\")), \"player\"] = \"MAURI J\"\n",
    "    data.loc[((data[\"player\"] == \"PAVLOVIC\") & (data[\"team\"] == \"CROTONE\")) | ((data[\"player\"] == \"PAVLOVIC\") & (data[\"team\"] == \"\")), \"player\"] = \"PAVLOVIC D\"\n",
    "    data.loc[((data[\"player\"] == \"FERRARI\") & (data[\"team\"] == \"BOLOGNA\")) | ((data[\"player\"] == \"FERRARI\") & (data[\"team\"] == \"VERONA\")) | ((data[\"player\"] == \"FERRARI\") & (data[\"team\"] == \"SAMPDORIA\")), \"player\"] = \"FERRARI A\"\n",
    "    data.loc[(data[\"player\"] == \"SILVA\") & (data[\"team\"] == \"MILAN\"), \"player\"] = \"ANDRE SILVA\"\n",
    "    data.loc[((data[\"player\"] == \"SALCEDO\") & (data[\"team\"] == \"GENOA\")) | ((data[\"player\"] == \"SALCEDO\") & (data[\"team\"] == \"VERONA\")) | ((data[\"player\"] == \"SALCEDO\") & (data[\"team\"] == \"UDINESE\")), \"player\"] = \"SALCEDO E\"\n",
    "    data.loc[(data[\"player\"] == \"GASPAR\") & (data[\"team\"] == \"FIORENTINA\"), \"player\"] = \"GASPAR B\"\n",
    "    data.loc[(data[\"player\"] == \"FERNANDEZ\") & (data[\"team\"] == \"MILAN\"), \"player\"] = \"FERNANDEZ M\"\n",
    "    data.loc[(data[\"player\"] == \"DANILO\") & (data[\"team\"] == \"UDINESE\"), \"player\"] = \"DANILO LAR\"  \n",
    "    data.loc[(data[\"player\"] == \"ROSSI\") & (data[\"team\"] == \"ROMA\"), \"player\"] = \"DE ROSSI\"\n",
    "    data.loc[(data[\"player\"] == \"PEDRO\") & (data[\"team\"] == \"CAGLIARI\"), \"player\"] = \"JOAO PEDRO\"    \n",
    "    data.loc[(data[\"player\"] == \"ORBAN\") & (data[\"team\"] == \"GENOA\"), \"player\"] = \"ORBAN L\"\n",
    "    data.loc[(data[\"player\"] == \"COULIBALY\") & (data[\"team\"] == \"PESCARA\"), \"player\"] = \"COULIBALY M\"\n",
    "    data.loc[(data[\"player\"] == \"SIMIC\") & (data[\"team\"] == \"CROTONE\"), \"player\"] = \"SIMIC S\"\n",
    "    data.loc[(data[\"player\"] == \"DIONISI\") & (data[\"team\"] == \"FROSINONE\"), \"player\"] = \"DIONISI F\"\n",
    "    data.loc[(data[\"player\"] == \"VIVIANI\") & (data[\"team\"] == \"BRESCIA\"), \"player\"] = \"VIVIANI M\"\n",
    "    data.loc[((data[\"player\"] == \"RIGONI\") & (data[\"team\"] == \"ATALANTA\")) | ((data[\"player\"] == \"RIGONI\") & (data[\"team\"] == \"SAMPDORIA\")), \"player\"] = \"RIGONI E\"\n",
    "    data.loc[(data[\"player\"] == \"DODO\") & (data[\"team\"] == \"SAMPDORIA\"), \"player\"] = \"DODO R\"\n",
    "    data.loc[(data[\"player\"] == \"MURIC\") & (data[\"team\"] == \"PESCARA\"), \"player\"] = \"MURIC R\"\n",
    "    data.loc[(data[\"player\"] == \"SILVA\") & (data[\"team\"] == \"UDINESE\"), \"player\"] = \"GABRIEL SILVA\"\n",
    "    data.loc[(data[\"player\"] == \"COLLEY\") & (data[\"team\"] == \"ATALANTA\"), \"player\"] = \"COLLEY E\"\n",
    "    data.loc[(data[\"player\"] == \"HENDERSON\") & (data[\"team\"] == \"VERONA\"), \"player\"] = \"HENDERSON L\"\n",
    "    data.loc[(data[\"player\"] == \"PEDRO\") & (data[\"team\"] == \"FIORENTINA\"), \"player\"] = \"PEDRO G\"\n",
    "    data.loc[(data[\"player\"] == \"RANIERI\") & (data[\"team\"] == \"FIORENTINA\"), \"player\"] = \"RANIERI L\"\n",
    "    data.loc[(data[\"player\"] == \"VITALE\") & (data[\"team\"] == \"VERONA\"), \"player\"] = \"VITALE L\"\n",
    "    data.loc[(data[\"player\"] == \"THIAM\") & (data[\"team\"] == \"SPAL\"), \"player\"] = \"THIAM D\"\n",
    "              \n",
    "    return data"
   ]
  },
  {
   "cell_type": "code",
   "execution_count": 34,
   "metadata": {
    "id": "urOQS037Rq1i"
   },
   "outputs": [
    {
     "data": {
      "text/html": [
       "<div>\n",
       "<style scoped>\n",
       "    .dataframe tbody tr th:only-of-type {\n",
       "        vertical-align: middle;\n",
       "    }\n",
       "\n",
       "    .dataframe tbody tr th {\n",
       "        vertical-align: top;\n",
       "    }\n",
       "\n",
       "    .dataframe thead th {\n",
       "        text-align: right;\n",
       "    }\n",
       "</style>\n",
       "<table border=\"1\" class=\"dataframe\">\n",
       "  <thead>\n",
       "    <tr style=\"text-align: right;\">\n",
       "      <th></th>\n",
       "      <th>player</th>\n",
       "      <th>team</th>\n",
       "      <th>matchweek</th>\n",
       "      <th>match_date</th>\n",
       "      <th>home_team</th>\n",
       "      <th>away_team</th>\n",
       "      <th>score</th>\n",
       "      <th>status</th>\n",
       "      <th>season</th>\n",
       "    </tr>\n",
       "  </thead>\n",
       "  <tbody>\n",
       "    <tr>\n",
       "      <th>26450</th>\n",
       "      <td>NETO</td>\n",
       "      <td>JUVENTUS</td>\n",
       "      <td>1</td>\n",
       "      <td>Aug 20, 2016</td>\n",
       "      <td>Juventus</td>\n",
       "      <td>Fiorentina</td>\n",
       "      <td>2:1</td>\n",
       "      <td>on the bench</td>\n",
       "      <td>2016</td>\n",
       "    </tr>\n",
       "    <tr>\n",
       "      <th>26451</th>\n",
       "      <td>NETO</td>\n",
       "      <td>JUVENTUS</td>\n",
       "      <td>2</td>\n",
       "      <td>Aug 27, 2016</td>\n",
       "      <td>Lazio</td>\n",
       "      <td>Juventus</td>\n",
       "      <td>0:1</td>\n",
       "      <td>on the bench</td>\n",
       "      <td>2016</td>\n",
       "    </tr>\n",
       "  </tbody>\n",
       "</table>\n",
       "</div>"
      ],
      "text/plain": [
       "      player      team  matchweek    match_date home_team   away_team score  \\\n",
       "26450   NETO  JUVENTUS          1  Aug 20, 2016  Juventus  Fiorentina   2:1   \n",
       "26451   NETO  JUVENTUS          2  Aug 27, 2016     Lazio    Juventus   0:1   \n",
       "\n",
       "             status  season  \n",
       "26450  on the bench    2016  \n",
       "26451  on the bench    2016  "
      ]
     },
     "execution_count": 34,
     "metadata": {},
     "output_type": "execute_result"
    }
   ],
   "source": [
    "#modify the format of the player's name and team to match that of Fantacalcio data\n",
    "\n",
    "transfermarkt = transfermarkt[transfermarkt[\"season\"].isin([2016, 2017, 2018, 2019])]\n",
    "\n",
    "#there is no easy way to write a function that modifies the name of the teams: being few values we'll simply use a dictionary for that\n",
    "team_names = {\"Juventus FC\":\"JUVENTUS\", \"AS Roma\":\"ROMA\", \"Inter Milan\":\"INTER\", \"SSC Napoli\":\"NAPOLI\", \"AC Milan\":\"MILAN\",\n",
    "              \"SS Lazio\":\"LAZIO\", \"ACF Fiorentina\":\"FIORENTINA\", \"UC Sampdoria\":\"SAMPDORIA\", \"Genoa CFC\":\"GENOA\",\n",
    "              \"Udinese Calcio\":\"UDINESE\", \"Torino FC\":\"TORINO\", \"Bologna FC 1909\":\"BOLOGNA\", \"US Sassuolo\":\"SASSUOLO\",\n",
    "              \"Atalanta BC\":\"ATALANTA\", \"Athletic Carpi 2021\":\"CARPI\", \"Palermo FC\":\"PALERMO\", \"US Palermo\":\"PALERMO\",\n",
    "              \"Hellas Verona\":\"VERONA\", \"Chievo Verona\":\"CHIEVO\", \"Frosinone Calcio\":\"FROSINONE\", \"FC Empoli\":\"EMPOLI\",\n",
    "              \"Cagliari Calcio\":\"CAGLIARI\", \"Delfino Pescara 1936\":\"PESCARA\", \"FC Crotone\":\"CROTONE\",\n",
    "              \"Benevento Calcio\":\"BENEVENTO\", \"Parma Calcio 1913\":\"PARMA\", \"Brescia Calcio\":\"BRESCIA\",\n",
    "              \"US Lecce\":\"LECCE\", \"Spezia Calcio\":\"SPEZIA\"}\n",
    "\n",
    "transfermarkt = transfermarkt.replace(team_names)\n",
    "\n",
    "transfermarkt = modify_player(transfermarkt)\n",
    "\n",
    "transfermarkt.head(2)"
   ]
  },
  {
   "cell_type": "markdown",
   "metadata": {
    "id": "Jcc8WMbAJv6s"
   },
   "source": [
    "Create player_status column"
   ]
  },
  {
   "cell_type": "code",
   "execution_count": 35,
   "metadata": {
    "id": "-j_VYHsWJs6P"
   },
   "outputs": [
    {
     "name": "stdout",
     "output_type": "stream",
     "text": [
      "['CB', 'CM', 'CF', 'DM', 'GK', 'LB', 'RB', 'AM', 'LW', 'LM', 'RW', 'RM', 'SS', 'SW']\n"
     ]
    }
   ],
   "source": [
    "#Find possible positions of players (these values mean a player has played in the game)\n",
    "possibe_positions = transfermarkt[transfermarkt['status'].apply(lambda x: len(str(x))) <= 2]['status'].value_counts().index.tolist()\n",
    "print(possibe_positions)"
   ]
  },
  {
   "cell_type": "code",
   "execution_count": 36,
   "metadata": {
    "id": "rVrS3ba5J2gc"
   },
   "outputs": [],
   "source": [
    "def player_status(row):\n",
    "        if row['status'] == 'Red card suspension' or row['status'] == 'Indirect card suspension' or row['status'] == 'Yellow card suspension' or row['status'] == 'Suspended' or row['status'] == 'Suspension through sports court':\n",
    "            return 'suspended'\n",
    "        elif row['status']== 'on the bench':\n",
    "            return 'on the bench'\n",
    "        elif row['status'] == 'Not in squad':\n",
    "            return 'not in squad'\n",
    "        elif row['status'] in possibe_positions:\n",
    "            return 'played in the game'\n",
    "        elif str(row['status']) == 'nan':\n",
    "            return 'error_status'\n",
    "        else:\n",
    "            return 'injured'"
   ]
  },
  {
   "cell_type": "code",
   "execution_count": 37,
   "metadata": {
    "id": "giBEMMAUJ4N1"
   },
   "outputs": [],
   "source": [
    "#Run this to create a new column for injuries table status categorization\n",
    "transfermarkt['player_status']= np.NaN\n",
    "transfermarkt['player_status']= transfermarkt.apply(lambda row: player_status(row), axis=1)"
   ]
  },
  {
   "cell_type": "code",
   "execution_count": 38,
   "metadata": {
    "id": "j71W1Ee2J_7U"
   },
   "outputs": [
    {
     "data": {
      "text/plain": [
       "played in the game    41354\n",
       "on the bench          27094\n",
       "not in squad          21807\n",
       "injured                9892\n",
       "error_status           5379\n",
       "suspended              1817\n",
       "Name: player_status, dtype: int64"
      ]
     },
     "execution_count": 38,
     "metadata": {},
     "output_type": "execute_result"
    }
   ],
   "source": [
    "transfermarkt['player_status'].value_counts()"
   ]
  },
  {
   "cell_type": "markdown",
   "metadata": {
    "id": "0kswCjvNRy1M"
   },
   "source": [
    "# Merge Prices, Scores and Transfermark data"
   ]
  },
  {
   "cell_type": "code",
   "execution_count": 39,
   "metadata": {
    "id": "cE4AmrcQKDYr"
   },
   "outputs": [
    {
     "name": "stdout",
     "output_type": "stream",
     "text": [
      "Rows in trnasfermarkt data:  107343\n",
      "Rows in scores data:         42683\n"
     ]
    }
   ],
   "source": [
    "print('Rows in trnasfermarkt data: ', len(transfermarkt))\n",
    "print('Rows in scores data:        ', len(scores))\n",
    "# print('Rows in prices data: 'len())"
   ]
  },
  {
   "cell_type": "code",
   "execution_count": 40,
   "metadata": {
    "id": "sCKxVxZ5R7Nj"
   },
   "outputs": [],
   "source": [
    "# merge data from Fantacalcio.it and transfermarkt.com\n",
    "data = pd.merge(transfermarkt, scores,  how='left', left_on=[\"player\", \"team\", \"season\", \"matchweek\"], right_on=[\"player\", \"team\", \"season\", \"matchweek\"])"
   ]
  },
  {
   "cell_type": "code",
   "execution_count": 41,
   "metadata": {
    "id": "Eieg0DS0KFrc"
   },
   "outputs": [
    {
     "name": "stdout",
     "output_type": "stream",
     "text": [
      "New DF: 107343\n",
      "This many scores transferred:  40369\n",
      "This many we should have filled:  41354\n",
      "Unused from Scores: 2357\n"
     ]
    }
   ],
   "source": [
    "print('New DF:', len(data))\n",
    "print('This many scores transferred: ', len(data[data['base_score'].apply(lambda x: str(x)) != 'nan']['base_score']))\n",
    "print('This many we should have filled: ', len(transfermarkt[transfermarkt['player_status'] == 'played in the game']))\n",
    "data2 = pd.merge(scores, data, how='left', left_on=[\"player\", \"team\", \"season\", \"matchweek\"], right_on=[\"player\", \"team\", \"season\", \"matchweek\"])\n",
    "len_unused = len(data2[data2['base_score_y'].isnull()])\n",
    "print('Unused from Scores:', len_unused)"
   ]
  },
  {
   "cell_type": "code",
   "execution_count": 42,
   "metadata": {
    "id": "HNRNtBfiiArN"
   },
   "outputs": [],
   "source": [
    "# impute the NaNs in the columns \"id\" and \"role\" in the table resulting from the merge\n",
    "\n",
    "#create tables to easily retrieve the info of each player during each season\n",
    "players_info = scores.groupby([\"id\", \"season\", \"role\"]).agg('first').reset_index()\n",
    "players_info = players_info[[\"id\", \"player\", \"role\", \"season\"]]\n",
    "\n",
    "#use the table above to impute the NaNs in the table resulting from the join\n",
    "#.TOLIST()[0] IS LESS EFFICIENT THAN .ITEM() BUT AVOIDS RAISING A VALUEERROR FOR MISSING CORRESPONDANCES BETWEEN THE NAMES IN THE TWO DATASETS: IF WE MANAGE TO CORRECT EVERYTHING CAN BE CHANGED\n",
    "data[\"id\"]   = data.apply(lambda x: players_info.loc[(players_info.player == x.player) & (players_info.season == x.season), \"id\"].tolist()[0]   if len(players_info.loc[(players_info.player == x.player) & (players_info.season == x.season), \"id\"].tolist()) > 0 else np.NaN, axis=1)\n",
    "data[\"role\"] = data.apply(lambda x: players_info.loc[(players_info.player == x.player) & (players_info.season == x.season), \"role\"].tolist()[0] if len(players_info.loc[(players_info.player == x.player) & (players_info.season == x.season), \"role\"].tolist()) > 0 else np.NaN, axis=1)"
   ]
  },
  {
   "cell_type": "markdown",
   "metadata": {
    "id": "PP53DTqX1DD_"
   },
   "source": [
    "**Duplicate rows issue**"
   ]
  },
  {
   "cell_type": "code",
   "execution_count": 43,
   "metadata": {
    "id": "C-ES14FXZfgT"
   },
   "outputs": [
    {
     "data": {
      "text/plain": [
       "0"
      ]
     },
     "execution_count": 43,
     "metadata": {},
     "output_type": "execute_result"
    }
   ],
   "source": [
    "# Some rows do not have unique [player, season, matchweek] which causes problems later on\n",
    "# Mostly this is because one player was assigned to two teams or counted twice per game\n",
    "# The below only takes first row of a grouped sorted database (manually check it picks the right row ~90% of time)\n",
    "\n",
    "# Deal with particular cases of duplicate [player, team, season, matchweek]\n",
    "data = data.sort_values(by=[\"player\", \"team\", \"season\", \"matchweek\", \"base_score\"]).groupby(by=[\"player\", \"team\", \"season\", \"matchweek\"]).first().reset_index()\n",
    "\n",
    "# Helper column for dealing with duplicate [player, season, matchweek]\n",
    "# Shows 0 if col 'team' is neither in 'home team' nor in 'away team' <- if given the chance we will get rid of this row\n",
    "data['team_check'] = [ -1 if ((row['team'].lower() == row['home_team'].lower()) | (row['team'].lower() == row['away_team'].lower())) else 0 for index,row in data.iterrows()]\n",
    "\n",
    "# Deal with cases of duplicate [player, season, matchweek]\n",
    "data = data.sort_values(by=[\"player\", \"season\", \"matchweek\", \"base_score\", 'team_check']).groupby(by=[\"player\", \"season\", \"matchweek\"]).first().reset_index()\n",
    "\n",
    "#check\n",
    "len(data[data.duplicated([\"player\", \"season\", \"matchweek\"])])"
   ]
  },
  {
   "cell_type": "markdown",
   "metadata": {
    "id": "2LLnSD9R1I7i"
   },
   "source": [
    "The above solution has some flaws e.g.: Player has duplicate [player, season, match] for 2 teams. In a game had no score for either team (e.g. injured), we picked the team that appeared in 'away team' or 'home team'. In case when the wrong team was playing against the correct team, both appeared in 'away team' or 'home team'. In this case we might have chosen the wrong team for this particular game. But all the others in the season should be fine, therefore, we look for patterns and fix such outliers. Not ideal solution but helps"
   ]
  },
  {
   "cell_type": "code",
   "execution_count": 44,
   "metadata": {
    "id": "6SItYH-I1Gjv"
   },
   "outputs": [],
   "source": [
    "def fix_team(d):\n",
    "    for index,row in d.iterrows():\n",
    "\n",
    "        # skip the first/last 3 rows to avoid index out of range error\n",
    "        if (index < 3) or (index>len(d)-3):\n",
    "            continue\n",
    "\n",
    "        # consider cases where 'team' changes from one matchweek to the next one\n",
    "        if d.iloc[index,3] != d.iloc[index+1,3]:\n",
    "\n",
    "            # the 3 ones ahead are the same as the one before (current 'team' most likely wrong)\n",
    "            if (d.iloc[index+1,3] == d.iloc[index+2,3]) and (d.iloc[index+1,3] == d.iloc[index+3,3]) and (d.iloc[index+1,3] == d.iloc[index-1,3]):\n",
    "                d.iloc[index,3] = d.iloc[index+1,3]\n",
    "\n",
    "            # the 3 ones before are the same as the one after (current 'team' most likely wrong)\n",
    "            elif (d.iloc[index+1,3] == d.iloc[index-1,3]) and (d.iloc[index+1,3] == d.iloc[index-2,3]) and (d.iloc[index+1,3] == d.iloc[index-3,3]):\n",
    "                d.iloc[index,3] = d.iloc[index+1,3]\n",
    "    return d"
   ]
  },
  {
   "cell_type": "code",
   "execution_count": 45,
   "metadata": {
    "id": "RbFu5Mjc1PBX"
   },
   "outputs": [],
   "source": [
    "data = fix_team(data)\n",
    "data = data.drop(columns=['team_check'])"
   ]
  },
  {
   "cell_type": "code",
   "execution_count": 46,
   "metadata": {
    "id": "WK1RHfYg6mpr"
   },
   "outputs": [],
   "source": [
    "# Few manual fixes\n",
    "data.loc[(data['player'] == 'DANILO') & (data['season'] == 2019) & (data['matchweek'] == 9), 'team'] = 'JUVENTUS'\n",
    "data.loc[(data['player'] == 'DANILO') & (data['season'] == 2019) & (data['matchweek'] == 18), 'team'] = 'BOLOGNA'\n",
    "data.loc[(data['player'] == 'DANILO') & (data['season'] == 2019) & (data['matchweek'] == 28), 'team'] = 'BOLOGNA'\n",
    "data.loc[(data['player'] == 'DANILO') & (data['season'] == 2019) & (data['matchweek'] == 37), 'team'] = 'BOLOGNA'\n",
    "data.loc[(data['player'] == 'RADU') & (data['season'] == 2016)& (data['matchweek'] == 36), 'team'] = 'LAZIO'"
   ]
  },
  {
   "cell_type": "markdown",
   "metadata": {
    "id": "AxZSfLUVAKHm"
   },
   "source": [
    "**Merge prices table to the scores table**"
   ]
  },
  {
   "cell_type": "code",
   "execution_count": 47,
   "metadata": {
    "id": "D-NZa0JSAL2N"
   },
   "outputs": [],
   "source": [
    "data = pd.merge(data, price,  how='left', left_on=[\"player\", \"season\", \"matchweek\"], right_on=[\"player\", \"season\", \"matchweek\"])"
   ]
  },
  {
   "cell_type": "code",
   "execution_count": 48,
   "metadata": {
    "id": "MOYTiarhALk0"
   },
   "outputs": [
    {
     "name": "stdout",
     "output_type": "stream",
     "text": [
      "98523\n",
      "68349\n"
     ]
    }
   ],
   "source": [
    "print(len(data))\n",
    "print(len(data[data['price'].notna()]))"
   ]
  },
  {
   "cell_type": "markdown",
   "metadata": {
    "id": "ZA8xzkkZ6rIz"
   },
   "source": [
    "**Make sure teams capitalization is aligned between 'team', 'home_team' and 'away_team'**"
   ]
  },
  {
   "cell_type": "code",
   "execution_count": 49,
   "metadata": {
    "id": "ZAh3F_KN6o37"
   },
   "outputs": [],
   "source": [
    "data['team'] = data['team'].apply(lambda x: x.upper())\n",
    "data['home_team'] = data['home_team'].apply(lambda x: x.upper())\n",
    "data['away_team'] = data['away_team'].apply(lambda x: x.upper())"
   ]
  },
  {
   "cell_type": "markdown",
   "metadata": {
    "id": "IkbNaRv4VCNJ"
   },
   "source": [
    "**Convert 'match_date' to pd.datetime**"
   ]
  },
  {
   "cell_type": "code",
   "execution_count": 50,
   "metadata": {
    "id": "WoJiM-k3VDXz"
   },
   "outputs": [],
   "source": [
    "data['match_date'] = pd.to_datetime(data['match_date'])"
   ]
  },
  {
   "cell_type": "markdown",
   "metadata": {
    "id": "m6Kk2dqQ-yvn"
   },
   "source": [
    "**Create column opponent**\n",
    "(technically feature engineering, but necessary to merge Elo Ratings below)"
   ]
  },
  {
   "cell_type": "code",
   "execution_count": 51,
   "metadata": {
    "id": "yHIodwlA-vpO"
   },
   "outputs": [],
   "source": [
    "data['opponent'] = [ row['away_team'] if row['home_team']==row['team'] else row['home_team'] for index, row in data.iterrows()]"
   ]
  },
  {
   "cell_type": "markdown",
   "metadata": {
    "id": "C2Tw2RsUBGgm"
   },
   "source": [
    "# Import Elo Ratings"
   ]
  },
  {
   "cell_type": "markdown",
   "metadata": {},
   "source": [
    "### This is done separately because Elo ratings are team-based rather than player-based"
   ]
  },
  {
   "cell_type": "code",
   "execution_count": 52,
   "metadata": {
    "id": "SafsWgFcBSke"
   },
   "outputs": [],
   "source": [
    "#If you have the excel files, read them then add these columns- very important for merging on the correct season\n",
    "elo_df = pd.read_excel(\"elo/Elo Ratings.xlsx\")"
   ]
  },
  {
   "cell_type": "code",
   "execution_count": 53,
   "metadata": {
    "id": "h931-h8BcN3e"
   },
   "outputs": [],
   "source": [
    "elo_df['team'] = elo_df['team'].fillna(\"None\").apply(lambda x : x.replace('\\xa0', ''))\n",
    "\n",
    "team_names = {\"Juventus\":\"JUVENTUS\",\"Inter\":\"INTER\",\"SSC Napoli\":\"NAPOLI\",\n",
    "              \"AS Roma\":\"ROMA\",\"AC Milan\":\"MILAN\",\"ACF Fiorentina\":\"FIORENTINA\",\n",
    "              \"Lazio Roma\":\"LAZIO\",\"Torino FC\":\"TORINO\",\"Genoa CFC\":\"GENOA\",\n",
    "              \"Udinese Calcio\":\"UDINESE\",\"Sassuolo Calcio\":\"SASSUOLO\",\n",
    "              \"Sampdoria\":\"SAMPDORIA\",\"Bologna FC\":\"BOLOGNA\",\"Atalanta\":\"ATALANTA\",\n",
    "              \"Cagliari Calcio\":\"CAGLIARI\",\"Empoli FC\":\"EMPOLI\",\"Chievo Verona\":\"CHIEVO\",\n",
    "              \"Pescara Calcio\":\"PESCARA\",\"US Palermo\":\"PALERMO\",\"FC Crotone\":\"CROTONE\",\n",
    "              \"Benevento Calcio\":\"BENEVENTO\",\"SPAL 2013 Ferrara\":\"SPAL\",\"Hellas Verona\":\"VERONA\",\n",
    "              \"Parma Calcio 1913\":\"PARMA\",\"Frosinone Calcio\":\"FROSINONE\",\n",
    "              \"Brescia Calcio\":\"BRESCIA\",\"US Lecce\":\"LECCE\"}\n",
    "\n",
    "elo_df[\"team\"] = elo_df[\"team\"].replace(team_names)"
   ]
  },
  {
   "cell_type": "code",
   "execution_count": 54,
   "metadata": {
    "id": "epyZCgZicdFx"
   },
   "outputs": [],
   "source": [
    "# Modify date format in elo_df to match format of rest of data, compacting it into a single column and converting to datetime object\n",
    "\n",
    "elo_df[['year', 'month', 'day']] = elo_df['Date'].str.split('/', expand=True)\n",
    "\n",
    "elo_df['Date'] = elo_df['year'] + '-' + elo_df['month'] + '-' + elo_df['day']\n",
    "elo_df['Date'] = pd.to_datetime(elo_df['Date'])\n",
    "\n",
    "elo_df = elo_df.drop(['year','month','day'], axis=1)"
   ]
  },
  {
   "cell_type": "code",
   "execution_count": 55,
   "metadata": {
    "id": "Cfne80xp2Ps_"
   },
   "outputs": [],
   "source": [
    "# Rename seasons to match the format of rest of data\n",
    "\n",
    "elo_df.loc[elo_df[\"Season\"] == \"2015-2016\", \"Season\"] = 2015\n",
    "elo_df.loc[elo_df[\"Season\"] == \"2016-2017\", \"Season\"] = 2016\n",
    "elo_df.loc[elo_df[\"Season\"] == \"2017-2018\", \"Season\"] = 2017\n",
    "elo_df.loc[elo_df[\"Season\"] == \"2018-2019\", \"Season\"] = 2018\n",
    "elo_df.loc[elo_df[\"Season\"] == \"2019-2020\", \"Season\"] = 2019\n",
    "elo_df.loc[elo_df[\"Season\"] == \"2020-2021\", \"Season\"] = 2020\n",
    "elo_df.loc[elo_df[\"Season\"] == \"2021-2022\", \"Season\"] = 2021\n",
    "\n",
    "elo_df[\"Season\"] = elo_df[\"Season\"].astype(int)"
   ]
  },
  {
   "cell_type": "code",
   "execution_count": 56,
   "metadata": {
    "id": "hRYD-r2yfNNv"
   },
   "outputs": [
    {
     "name": "stderr",
     "output_type": "stream",
     "text": [
      "/Users/jedrzejalchimowicz/opt/anaconda3/lib/python3.8/site-packages/pandas/core/frame.py:4441: SettingWithCopyWarning: \n",
      "A value is trying to be set on a copy of a slice from a DataFrame\n",
      "\n",
      "See the caveats in the documentation: https://pandas.pydata.org/pandas-docs/stable/user_guide/indexing.html#returning-a-view-versus-a-copy\n",
      "  return super().rename(\n"
     ]
    }
   ],
   "source": [
    "# Subset Elo Ratings to keep only the info we need\n",
    "# Divide onto two tables as we need to merge twice: one table will provide the rating for the player's team, the other will provide the rating for its opponent in the particular matchweek\n",
    "\n",
    "elo_df = elo_df[elo_df.Competition == \"Serie A\"]\n",
    "\n",
    "elo_df.rename(columns={'Date':'match_date',\n",
    "                       'Rating_before':'elo_rating',\n",
    "                       'Season':'season'}, inplace=True)\n",
    "\n",
    "team_elo = elo_df[['team', 'season', 'match_date', 'elo_rating']]\n",
    "\n",
    "opponent_elo = elo_df[['team', 'season', 'match_date', 'elo_rating']]\n",
    "opponent_elo.rename(columns={'team':'opponent',\n",
    "                             'elo_rating': 'elo_rating_opponent'}, inplace=True)"
   ]
  },
  {
   "cell_type": "code",
   "execution_count": 57,
   "metadata": {
    "id": "xOZMbG_jfTJF"
   },
   "outputs": [],
   "source": [
    "data = pd.merge(data, team_elo, how='left', left_on=[\"team\",\"season\",\"match_date\"], right_on=[\"team\", \"season\",\"match_date\"])\n",
    "data = pd.merge(data, opponent_elo, how='left', left_on=[\"opponent\",\"season\",\"match_date\"], right_on=[\"opponent\", \"season\",\"match_date\"])"
   ]
  },
  {
   "cell_type": "markdown",
   "metadata": {
    "id": "lUEBLapzc0wm"
   },
   "source": [
    "# Final Dataframe"
   ]
  },
  {
   "cell_type": "markdown",
   "metadata": {
    "id": "50I1KyaN6xo8"
   },
   "source": [
    "**Sort to ensure correct calculation of rolling windows**"
   ]
  },
  {
   "cell_type": "code",
   "execution_count": 58,
   "metadata": {
    "id": "nghc-JYE6y22"
   },
   "outputs": [],
   "source": [
    "data.sort_values(by=['player', 'season', 'matchweek'], inplace=True)"
   ]
  },
  {
   "cell_type": "code",
   "execution_count": 59,
   "metadata": {
    "id": "xWBCOLkyc0aL"
   },
   "outputs": [
    {
     "data": {
      "text/html": [
       "<div>\n",
       "<style scoped>\n",
       "    .dataframe tbody tr th:only-of-type {\n",
       "        vertical-align: middle;\n",
       "    }\n",
       "\n",
       "    .dataframe tbody tr th {\n",
       "        vertical-align: top;\n",
       "    }\n",
       "\n",
       "    .dataframe thead th {\n",
       "        text-align: right;\n",
       "    }\n",
       "</style>\n",
       "<table border=\"1\" class=\"dataframe\">\n",
       "  <thead>\n",
       "    <tr style=\"text-align: right;\">\n",
       "      <th></th>\n",
       "      <th>player</th>\n",
       "      <th>season</th>\n",
       "      <th>matchweek</th>\n",
       "      <th>team</th>\n",
       "      <th>match_date</th>\n",
       "      <th>home_team</th>\n",
       "      <th>away_team</th>\n",
       "      <th>score</th>\n",
       "      <th>status</th>\n",
       "      <th>player_status</th>\n",
       "      <th>id</th>\n",
       "      <th>role</th>\n",
       "      <th>base_score</th>\n",
       "      <th>goal_scored</th>\n",
       "      <th>goal_conceded</th>\n",
       "      <th>penalty_saved</th>\n",
       "      <th>penalty_failed</th>\n",
       "      <th>penalty_scored</th>\n",
       "      <th>own_goal</th>\n",
       "      <th>yellow_card</th>\n",
       "      <th>red_card</th>\n",
       "      <th>assist</th>\n",
       "      <th>goal_decisive_draw</th>\n",
       "      <th>goal_decisive_win</th>\n",
       "      <th>coach</th>\n",
       "      <th>coach_score</th>\n",
       "      <th>price</th>\n",
       "      <th>opponent</th>\n",
       "      <th>elo_rating</th>\n",
       "      <th>elo_rating_opponent</th>\n",
       "    </tr>\n",
       "  </thead>\n",
       "  <tbody>\n",
       "    <tr>\n",
       "      <th>0</th>\n",
       "      <td>AARONS</td>\n",
       "      <td>2017</td>\n",
       "      <td>23</td>\n",
       "      <td>VERONA</td>\n",
       "      <td>2018-02-04</td>\n",
       "      <td>VERONA</td>\n",
       "      <td>ROMA</td>\n",
       "      <td>0:1</td>\n",
       "      <td>LM</td>\n",
       "      <td>played in the game</td>\n",
       "      <td>2661.0</td>\n",
       "      <td>M</td>\n",
       "      <td>5</td>\n",
       "      <td>0.0</td>\n",
       "      <td>0.0</td>\n",
       "      <td>0.0</td>\n",
       "      <td>0.0</td>\n",
       "      <td>0.0</td>\n",
       "      <td>0.0</td>\n",
       "      <td>0.0</td>\n",
       "      <td>0.0</td>\n",
       "      <td>0.0</td>\n",
       "      <td>0.0</td>\n",
       "      <td>0.0</td>\n",
       "      <td>PECCHIA</td>\n",
       "      <td>5.0</td>\n",
       "      <td>5.0</td>\n",
       "      <td>ROMA</td>\n",
       "      <td>1771.0</td>\n",
       "      <td>2114.0</td>\n",
       "    </tr>\n",
       "    <tr>\n",
       "      <th>1</th>\n",
       "      <td>AARONS</td>\n",
       "      <td>2017</td>\n",
       "      <td>24</td>\n",
       "      <td>VERONA</td>\n",
       "      <td>2018-02-11</td>\n",
       "      <td>SAMPDORIA</td>\n",
       "      <td>VERONA</td>\n",
       "      <td>2:0</td>\n",
       "      <td>RW</td>\n",
       "      <td>played in the game</td>\n",
       "      <td>2661.0</td>\n",
       "      <td>M</td>\n",
       "      <td>5.5</td>\n",
       "      <td>0.0</td>\n",
       "      <td>0.0</td>\n",
       "      <td>0.0</td>\n",
       "      <td>0.0</td>\n",
       "      <td>0.0</td>\n",
       "      <td>0.0</td>\n",
       "      <td>0.0</td>\n",
       "      <td>0.0</td>\n",
       "      <td>0.0</td>\n",
       "      <td>0.0</td>\n",
       "      <td>0.0</td>\n",
       "      <td>PECCHIA</td>\n",
       "      <td>6.0</td>\n",
       "      <td>5.0</td>\n",
       "      <td>SAMPDORIA</td>\n",
       "      <td>1767.0</td>\n",
       "      <td>1935.0</td>\n",
       "    </tr>\n",
       "    <tr>\n",
       "      <th>2</th>\n",
       "      <td>AARONS</td>\n",
       "      <td>2017</td>\n",
       "      <td>25</td>\n",
       "      <td>VERONA</td>\n",
       "      <td>2018-02-19</td>\n",
       "      <td>LAZIO</td>\n",
       "      <td>VERONA</td>\n",
       "      <td>2:0</td>\n",
       "      <td>None</td>\n",
       "      <td>error_status</td>\n",
       "      <td>2661.0</td>\n",
       "      <td>M</td>\n",
       "      <td>5.5</td>\n",
       "      <td>0.0</td>\n",
       "      <td>0.0</td>\n",
       "      <td>0.0</td>\n",
       "      <td>0.0</td>\n",
       "      <td>0.0</td>\n",
       "      <td>0.0</td>\n",
       "      <td>0.0</td>\n",
       "      <td>0.0</td>\n",
       "      <td>0.0</td>\n",
       "      <td>0.0</td>\n",
       "      <td>0.0</td>\n",
       "      <td>PECCHIA</td>\n",
       "      <td>5.0</td>\n",
       "      <td>5.0</td>\n",
       "      <td>LAZIO</td>\n",
       "      <td>1762.0</td>\n",
       "      <td>2032.0</td>\n",
       "    </tr>\n",
       "    <tr>\n",
       "      <th>3</th>\n",
       "      <td>AARONS</td>\n",
       "      <td>2017</td>\n",
       "      <td>26</td>\n",
       "      <td>VERONA</td>\n",
       "      <td>2018-02-25</td>\n",
       "      <td>VERONA</td>\n",
       "      <td>TORINO</td>\n",
       "      <td>2:1</td>\n",
       "      <td>on the bench</td>\n",
       "      <td>on the bench</td>\n",
       "      <td>2661.0</td>\n",
       "      <td>M</td>\n",
       "      <td>None</td>\n",
       "      <td>NaN</td>\n",
       "      <td>NaN</td>\n",
       "      <td>NaN</td>\n",
       "      <td>NaN</td>\n",
       "      <td>NaN</td>\n",
       "      <td>NaN</td>\n",
       "      <td>NaN</td>\n",
       "      <td>NaN</td>\n",
       "      <td>NaN</td>\n",
       "      <td>NaN</td>\n",
       "      <td>NaN</td>\n",
       "      <td>None</td>\n",
       "      <td>NaN</td>\n",
       "      <td>4.0</td>\n",
       "      <td>TORINO</td>\n",
       "      <td>1759.0</td>\n",
       "      <td>1975.0</td>\n",
       "    </tr>\n",
       "    <tr>\n",
       "      <th>4</th>\n",
       "      <td>AARONS</td>\n",
       "      <td>2017</td>\n",
       "      <td>27</td>\n",
       "      <td>VERONA</td>\n",
       "      <td>2018-04-04</td>\n",
       "      <td>BENEVENTO</td>\n",
       "      <td>VERONA</td>\n",
       "      <td>3:0</td>\n",
       "      <td>on the bench</td>\n",
       "      <td>on the bench</td>\n",
       "      <td>2661.0</td>\n",
       "      <td>M</td>\n",
       "      <td>None</td>\n",
       "      <td>NaN</td>\n",
       "      <td>NaN</td>\n",
       "      <td>NaN</td>\n",
       "      <td>NaN</td>\n",
       "      <td>NaN</td>\n",
       "      <td>NaN</td>\n",
       "      <td>NaN</td>\n",
       "      <td>NaN</td>\n",
       "      <td>NaN</td>\n",
       "      <td>NaN</td>\n",
       "      <td>NaN</td>\n",
       "      <td>None</td>\n",
       "      <td>NaN</td>\n",
       "      <td>5.0</td>\n",
       "      <td>BENEVENTO</td>\n",
       "      <td>1765.0</td>\n",
       "      <td>1628.0</td>\n",
       "    </tr>\n",
       "  </tbody>\n",
       "</table>\n",
       "</div>"
      ],
      "text/plain": [
       "   player  season  matchweek    team match_date  home_team away_team score  \\\n",
       "0  AARONS    2017         23  VERONA 2018-02-04     VERONA      ROMA   0:1   \n",
       "1  AARONS    2017         24  VERONA 2018-02-11  SAMPDORIA    VERONA   2:0   \n",
       "2  AARONS    2017         25  VERONA 2018-02-19      LAZIO    VERONA   2:0   \n",
       "3  AARONS    2017         26  VERONA 2018-02-25     VERONA    TORINO   2:1   \n",
       "4  AARONS    2017         27  VERONA 2018-04-04  BENEVENTO    VERONA   3:0   \n",
       "\n",
       "         status       player_status      id role base_score  goal_scored  \\\n",
       "0            LM  played in the game  2661.0    M          5          0.0   \n",
       "1            RW  played in the game  2661.0    M        5.5          0.0   \n",
       "2          None        error_status  2661.0    M        5.5          0.0   \n",
       "3  on the bench        on the bench  2661.0    M       None          NaN   \n",
       "4  on the bench        on the bench  2661.0    M       None          NaN   \n",
       "\n",
       "   goal_conceded  penalty_saved  penalty_failed  penalty_scored  own_goal  \\\n",
       "0            0.0            0.0             0.0             0.0       0.0   \n",
       "1            0.0            0.0             0.0             0.0       0.0   \n",
       "2            0.0            0.0             0.0             0.0       0.0   \n",
       "3            NaN            NaN             NaN             NaN       NaN   \n",
       "4            NaN            NaN             NaN             NaN       NaN   \n",
       "\n",
       "   yellow_card  red_card  assist  goal_decisive_draw  goal_decisive_win  \\\n",
       "0          0.0       0.0     0.0                 0.0                0.0   \n",
       "1          0.0       0.0     0.0                 0.0                0.0   \n",
       "2          0.0       0.0     0.0                 0.0                0.0   \n",
       "3          NaN       NaN     NaN                 NaN                NaN   \n",
       "4          NaN       NaN     NaN                 NaN                NaN   \n",
       "\n",
       "     coach  coach_score  price   opponent  elo_rating  elo_rating_opponent  \n",
       "0  PECCHIA          5.0    5.0       ROMA      1771.0               2114.0  \n",
       "1  PECCHIA          6.0    5.0  SAMPDORIA      1767.0               1935.0  \n",
       "2  PECCHIA          5.0    5.0      LAZIO      1762.0               2032.0  \n",
       "3     None          NaN    4.0     TORINO      1759.0               1975.0  \n",
       "4     None          NaN    5.0  BENEVENTO      1765.0               1628.0  "
      ]
     },
     "execution_count": 59,
     "metadata": {},
     "output_type": "execute_result"
    }
   ],
   "source": [
    "data.head()"
   ]
  },
  {
   "cell_type": "code",
   "execution_count": 60,
   "metadata": {
    "id": "u8GVpO9Ac5Jo"
   },
   "outputs": [],
   "source": [
    "data.to_csv(\"ready_datasets/data_cleaning_output.csv\")"
   ]
  }
 ],
 "metadata": {
  "colab": {
   "collapsed_sections": [],
   "name": "ML Project - Data Cleaning + Merge",
   "provenance": []
  },
  "kernelspec": {
   "display_name": "Python 3",
   "language": "python",
   "name": "python3"
  },
  "language_info": {
   "codemirror_mode": {
    "name": "ipython",
    "version": 3
   },
   "file_extension": ".py",
   "mimetype": "text/x-python",
   "name": "python",
   "nbconvert_exporter": "python",
   "pygments_lexer": "ipython3",
   "version": "3.8.8"
  }
 },
 "nbformat": 4,
 "nbformat_minor": 1
}
