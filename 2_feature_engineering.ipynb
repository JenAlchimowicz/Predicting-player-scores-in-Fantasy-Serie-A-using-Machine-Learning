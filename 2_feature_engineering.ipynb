{
 "cells": [
  {
   "cell_type": "markdown",
   "metadata": {
    "id": "XN3fmHQUfuha"
   },
   "source": [
    "# Feature Engineering"
   ]
  },
  {
   "cell_type": "markdown",
   "metadata": {},
   "source": [
    "---"
   ]
  },
  {
   "cell_type": "markdown",
   "metadata": {},
   "source": [
    "# Overview"
   ]
  },
  {
   "cell_type": "markdown",
   "metadata": {},
   "source": [
    "In this file we create 3 types of features:\n",
    "- Player based: e.g. average goals scored by player in the past 10 games\n",
    "- Team based: e.g. team form, average goals conceded by team in the past 10 games\n",
    "- Game based: e.g. home or away game"
   ]
  },
  {
   "cell_type": "code",
   "execution_count": 1,
   "metadata": {
    "id": "T1rLmCRaJrBr"
   },
   "outputs": [],
   "source": [
    "import pandas as pd\n",
    "import numpy as np"
   ]
  },
  {
   "cell_type": "code",
   "execution_count": 2,
   "metadata": {
    "id": "FEJi9jtbJSwo"
   },
   "outputs": [],
   "source": [
    "data = pd.read_csv(\"ready_datasets/data_cleaning_output.csv\")"
   ]
  },
  {
   "cell_type": "markdown",
   "metadata": {
    "id": "6jG7cloP2BjH"
   },
   "source": [
    "## Player based"
   ]
  },
  {
   "cell_type": "markdown",
   "metadata": {
    "id": "TlVNml7d67yZ"
   },
   "source": [
    "**AVG/MAX of main statistics**\n",
    "\n",
    "Here we create 'trend' variables using the rolling window method of pandas dataframes. Examples of such variables are:\n",
    "\n",
    "- AVG goals scored in the past 6 games\n",
    "- MAX assists in the past 3 games\n",
    "- AVG base score in the past 9 games\n",
    "\n",
    "For each type of variable (e.g. AVG goals scored) we create 3 versions: one that considers 3 games in the past, one that considers 6 and one that considers 9 games in the past. In the modelling stage we expect to remove some of the less predictive variables (especially since they are havily correlated)."
   ]
  },
  {
   "cell_type": "code",
   "execution_count": 3,
   "metadata": {
    "id": "9IkSxHGG18Gj"
   },
   "outputs": [],
   "source": [
    "# Impute values as 0 if player was on the bench <- he could have been picked for a game but scored 0 points\n",
    "data.loc[(data['player_status'] == 'on the bench') & (data['goal_scored'].isna()), \"base_score\":\"goal_decisive_win\"] = data.loc[(data['player_status'] == 'on the bench') & (data['goal_scored'].isna()), \"base_score\":\"goal_decisive_win\"].fillna(0)\n",
    "\n",
    "# Penalties scored and goal_scored was counted separately, create column for all goals in a game\n",
    "data['goals_total'] = data['goal_scored'] + data['penalty_scored']\n",
    "\n",
    "# Replace 6* with 0 in 'base_score' <- similarly to benched players they could have scored points but didn't, hence, we count them as 0\n",
    "data['base_score'] = data['base_score'].replace('6*', '0')\n",
    "data['base_score'] = [float(x) if str(x) != 'None' else x for x in data['base_score']]"
   ]
  },
  {
   "cell_type": "code",
   "execution_count": 4,
   "metadata": {
    "id": "F-Eok4Jr18EG"
   },
   "outputs": [],
   "source": [
    "# Function that uses rolling windows to calulate the AVG and MAX of a specified variable on a given timeframe.\n",
    "# The granularity is per player\n",
    "\n",
    "def avg_max_timex(df, col, timeframe):\n",
    "    \n",
    "    #prepare helper datasets. Useful for improving computation time\n",
    "    output_df = pd.DataFrame()\n",
    "    df1 = df[['player', 'team', 'season', 'matchweek', col]]\n",
    "    \n",
    "    #Variables for checking the runtime progress\n",
    "    x = len(df1['player'].unique())\n",
    "    counter = 0\n",
    "    print('NOW DOING THIS', x)\n",
    "    \n",
    "    \n",
    "    #Populate output dataset with avg and max for a specified rolling window\n",
    "    for player in df1['player'].unique():\n",
    "        temp = df1[df1['player'] == player]\n",
    "        temp[\"avg_\" + col + \"_\" + str(timeframe)] = temp[col].rolling(timeframe, min_periods=1).mean()\n",
    "        temp[\"max_\" + col + \"_\" + str(timeframe)] = temp[col].rolling(timeframe, min_periods=1).max()\n",
    "        output_df = output_df.append(temp)\n",
    "        \n",
    "        #Print runtime progress every 100 players\n",
    "        counter += 1\n",
    "        if counter % 100 == 0:\n",
    "            print(counter/x, '% done')\n",
    "    \n",
    "    #Merge with original dataset\n",
    "    output_df = output_df.drop(columns=[col])\n",
    "    df = pd.merge(df, output_df,  how='left', left_on=[\"player\", \"team\", \"season\", \"matchweek\"], right_on=[\"player\", \"team\", \"season\", \"matchweek\"])\n",
    "    \n",
    "    return df"
   ]
  },
  {
   "cell_type": "code",
   "execution_count": 5,
   "metadata": {
    "colab": {
     "base_uri": "https://localhost:8080/",
     "height": 357
    },
    "id": "Ggx-oBQnJ8iB",
    "outputId": "62ca277a-2055-44d8-c68a-352a2c452e27"
   },
   "outputs": [
    {
     "data": {
      "text/html": [
       "<div>\n",
       "<style scoped>\n",
       "    .dataframe tbody tr th:only-of-type {\n",
       "        vertical-align: middle;\n",
       "    }\n",
       "\n",
       "    .dataframe tbody tr th {\n",
       "        vertical-align: top;\n",
       "    }\n",
       "\n",
       "    .dataframe thead th {\n",
       "        text-align: right;\n",
       "    }\n",
       "</style>\n",
       "<table border=\"1\" class=\"dataframe\">\n",
       "  <thead>\n",
       "    <tr style=\"text-align: right;\">\n",
       "      <th></th>\n",
       "      <th>Unnamed: 0</th>\n",
       "      <th>player</th>\n",
       "      <th>season</th>\n",
       "      <th>matchweek</th>\n",
       "      <th>team</th>\n",
       "      <th>match_date</th>\n",
       "      <th>home_team</th>\n",
       "      <th>away_team</th>\n",
       "      <th>score</th>\n",
       "      <th>status</th>\n",
       "      <th>...</th>\n",
       "      <th>assist</th>\n",
       "      <th>goal_decisive_draw</th>\n",
       "      <th>goal_decisive_win</th>\n",
       "      <th>coach</th>\n",
       "      <th>coach_score</th>\n",
       "      <th>price</th>\n",
       "      <th>opponent</th>\n",
       "      <th>elo_rating</th>\n",
       "      <th>elo_rating_opponent</th>\n",
       "      <th>goals_total</th>\n",
       "    </tr>\n",
       "  </thead>\n",
       "  <tbody>\n",
       "    <tr>\n",
       "      <th>0</th>\n",
       "      <td>0</td>\n",
       "      <td>AARONS</td>\n",
       "      <td>2017</td>\n",
       "      <td>23</td>\n",
       "      <td>VERONA</td>\n",
       "      <td>2018-02-04</td>\n",
       "      <td>VERONA</td>\n",
       "      <td>ROMA</td>\n",
       "      <td>0:1</td>\n",
       "      <td>LM</td>\n",
       "      <td>...</td>\n",
       "      <td>0.0</td>\n",
       "      <td>0.0</td>\n",
       "      <td>0.0</td>\n",
       "      <td>PECCHIA</td>\n",
       "      <td>5.0</td>\n",
       "      <td>5.0</td>\n",
       "      <td>ROMA</td>\n",
       "      <td>1771.0</td>\n",
       "      <td>2114.0</td>\n",
       "      <td>0.0</td>\n",
       "    </tr>\n",
       "    <tr>\n",
       "      <th>1</th>\n",
       "      <td>1</td>\n",
       "      <td>AARONS</td>\n",
       "      <td>2017</td>\n",
       "      <td>24</td>\n",
       "      <td>VERONA</td>\n",
       "      <td>2018-02-11</td>\n",
       "      <td>SAMPDORIA</td>\n",
       "      <td>VERONA</td>\n",
       "      <td>2:0</td>\n",
       "      <td>RW</td>\n",
       "      <td>...</td>\n",
       "      <td>0.0</td>\n",
       "      <td>0.0</td>\n",
       "      <td>0.0</td>\n",
       "      <td>PECCHIA</td>\n",
       "      <td>6.0</td>\n",
       "      <td>5.0</td>\n",
       "      <td>SAMPDORIA</td>\n",
       "      <td>1767.0</td>\n",
       "      <td>1935.0</td>\n",
       "      <td>0.0</td>\n",
       "    </tr>\n",
       "    <tr>\n",
       "      <th>2</th>\n",
       "      <td>2</td>\n",
       "      <td>AARONS</td>\n",
       "      <td>2017</td>\n",
       "      <td>25</td>\n",
       "      <td>VERONA</td>\n",
       "      <td>2018-02-19</td>\n",
       "      <td>LAZIO</td>\n",
       "      <td>VERONA</td>\n",
       "      <td>2:0</td>\n",
       "      <td>NaN</td>\n",
       "      <td>...</td>\n",
       "      <td>0.0</td>\n",
       "      <td>0.0</td>\n",
       "      <td>0.0</td>\n",
       "      <td>PECCHIA</td>\n",
       "      <td>5.0</td>\n",
       "      <td>5.0</td>\n",
       "      <td>LAZIO</td>\n",
       "      <td>1762.0</td>\n",
       "      <td>2032.0</td>\n",
       "      <td>0.0</td>\n",
       "    </tr>\n",
       "    <tr>\n",
       "      <th>3</th>\n",
       "      <td>3</td>\n",
       "      <td>AARONS</td>\n",
       "      <td>2017</td>\n",
       "      <td>26</td>\n",
       "      <td>VERONA</td>\n",
       "      <td>2018-02-25</td>\n",
       "      <td>VERONA</td>\n",
       "      <td>TORINO</td>\n",
       "      <td>2:1</td>\n",
       "      <td>on the bench</td>\n",
       "      <td>...</td>\n",
       "      <td>0.0</td>\n",
       "      <td>0.0</td>\n",
       "      <td>0.0</td>\n",
       "      <td>NaN</td>\n",
       "      <td>NaN</td>\n",
       "      <td>4.0</td>\n",
       "      <td>TORINO</td>\n",
       "      <td>1759.0</td>\n",
       "      <td>1975.0</td>\n",
       "      <td>0.0</td>\n",
       "    </tr>\n",
       "    <tr>\n",
       "      <th>4</th>\n",
       "      <td>4</td>\n",
       "      <td>AARONS</td>\n",
       "      <td>2017</td>\n",
       "      <td>27</td>\n",
       "      <td>VERONA</td>\n",
       "      <td>2018-04-04</td>\n",
       "      <td>BENEVENTO</td>\n",
       "      <td>VERONA</td>\n",
       "      <td>3:0</td>\n",
       "      <td>on the bench</td>\n",
       "      <td>...</td>\n",
       "      <td>0.0</td>\n",
       "      <td>0.0</td>\n",
       "      <td>0.0</td>\n",
       "      <td>NaN</td>\n",
       "      <td>NaN</td>\n",
       "      <td>5.0</td>\n",
       "      <td>BENEVENTO</td>\n",
       "      <td>1765.0</td>\n",
       "      <td>1628.0</td>\n",
       "      <td>0.0</td>\n",
       "    </tr>\n",
       "  </tbody>\n",
       "</table>\n",
       "<p>5 rows × 32 columns</p>\n",
       "</div>"
      ],
      "text/plain": [
       "   Unnamed: 0  player  season  matchweek    team  match_date  home_team  \\\n",
       "0           0  AARONS    2017         23  VERONA  2018-02-04     VERONA   \n",
       "1           1  AARONS    2017         24  VERONA  2018-02-11  SAMPDORIA   \n",
       "2           2  AARONS    2017         25  VERONA  2018-02-19      LAZIO   \n",
       "3           3  AARONS    2017         26  VERONA  2018-02-25     VERONA   \n",
       "4           4  AARONS    2017         27  VERONA  2018-04-04  BENEVENTO   \n",
       "\n",
       "  away_team score        status  ... assist  goal_decisive_draw  \\\n",
       "0      ROMA   0:1            LM  ...    0.0                 0.0   \n",
       "1    VERONA   2:0            RW  ...    0.0                 0.0   \n",
       "2    VERONA   2:0           NaN  ...    0.0                 0.0   \n",
       "3    TORINO   2:1  on the bench  ...    0.0                 0.0   \n",
       "4    VERONA   3:0  on the bench  ...    0.0                 0.0   \n",
       "\n",
       "  goal_decisive_win    coach  coach_score  price   opponent  elo_rating  \\\n",
       "0               0.0  PECCHIA          5.0    5.0       ROMA      1771.0   \n",
       "1               0.0  PECCHIA          6.0    5.0  SAMPDORIA      1767.0   \n",
       "2               0.0  PECCHIA          5.0    5.0      LAZIO      1762.0   \n",
       "3               0.0      NaN          NaN    4.0     TORINO      1759.0   \n",
       "4               0.0      NaN          NaN    5.0  BENEVENTO      1765.0   \n",
       "\n",
       "   elo_rating_opponent  goals_total  \n",
       "0               2114.0          0.0  \n",
       "1               1935.0          0.0  \n",
       "2               2032.0          0.0  \n",
       "3               1975.0          0.0  \n",
       "4               1628.0          0.0  \n",
       "\n",
       "[5 rows x 32 columns]"
      ]
     },
     "execution_count": 5,
     "metadata": {},
     "output_type": "execute_result"
    }
   ],
   "source": [
    "data.head()"
   ]
  },
  {
   "cell_type": "code",
   "execution_count": null,
   "metadata": {
    "colab": {
     "base_uri": "https://localhost:8080/"
    },
    "id": "BUrksAXS18Bk",
    "outputId": "ec1b0273-3ae1-47ba-9ab2-6ffabfae3375"
   },
   "outputs": [],
   "source": [
    "data = avg_max_timex(data, 'base_score', 10)\n",
    "data = avg_max_timex(data, 'base_score', 7)\n",
    "data = avg_max_timex(data, 'base_score', 4)\n",
    "\n",
    "data = avg_max_timex(data, 'goal_scored', 10)\n",
    "data = avg_max_timex(data, 'goal_scored', 7)\n",
    "data = avg_max_timex(data, 'goals_total', 4)\n",
    "\n",
    "data = avg_max_timex(data, 'assist', 10)\n",
    "data = avg_max_timex(data, 'assist', 7)\n",
    "data = avg_max_timex(data, 'assist', 4)\n",
    "\n",
    "data = avg_max_timex(data, 'goal_conceded', 10)\n",
    "data = avg_max_timex(data, 'goal_conceded', 7)\n",
    "data = avg_max_timex(data, 'goal_conceded', 4)\n",
    "\n",
    "data = avg_max_timex(data, 'yellow_card', 10)\n",
    "data = avg_max_timex(data, 'yellow_card', 7)\n",
    "data = avg_max_timex(data, 'yellow_card', 4)\n",
    "\n",
    "data = avg_max_timex(data, 'penalty_failed', 10)\n",
    "data = avg_max_timex(data, 'penalty_saved', 10)\n",
    "data = avg_max_timex(data, 'own_goal', 10)\n",
    "data = avg_max_timex(data, 'red_card', 10)"
   ]
  },
  {
   "cell_type": "markdown",
   "metadata": {
    "id": "s8K6FMnI7Gid"
   },
   "source": [
    "**Number of injured/benched in the past x games**"
   ]
  },
  {
   "cell_type": "markdown",
   "metadata": {
    "id": "27HwoP0FrABZ"
   },
   "source": [
    "Here we create variables that count the number of absences of each kind on the short term (3 games in the past) and on the long term (10 games in the past). We use the same rolling window method as before. The three kinds are:\n",
    "\n",
    "- Injuries\n",
    "- Not in squad\n",
    "- Benched"
   ]
  },
  {
   "cell_type": "code",
   "execution_count": 7,
   "metadata": {
    "id": "RwmdpjcE7JHQ"
   },
   "outputs": [],
   "source": [
    "data['is_injured']      = [1 if x=='injured'      else 0 for x in data['player_status']]\n",
    "data['is_not_in_squad'] = [1 if x=='not in squad' else 0 for x in data['player_status']]\n",
    "data['is_benched']      = [1 if x=='on the bench' else 0 for x in data['player_status']]\n",
    "data['is_suspended'] = [1 if x=='suspended' else 0 for x in data['player_status']]"
   ]
  },
  {
   "cell_type": "code",
   "execution_count": 8,
   "metadata": {
    "id": "T1qlZjC07RD6"
   },
   "outputs": [],
   "source": [
    "def sum_timex_player(df, col, timeframe):\n",
    "    \n",
    "    #prepare helper datasets. Useful for improving computation time\n",
    "    output_df = pd.DataFrame()\n",
    "    df1 = df[['player', 'team', 'season', 'matchweek', col]]\n",
    "    \n",
    "    x = len(df1['player'].unique())\n",
    "    counter = 0\n",
    "    print('NOW DOING THIS', x)\n",
    "    \n",
    "    #Populate output dataset with avg and max for a specified rolling window\n",
    "    for player in df1['player'].unique():\n",
    "        temp = df1[df1['player'] == player]\n",
    "        temp[\"sum_\" + col + \"_\" + str(timeframe)] = temp[col].rolling(timeframe, min_periods=1).sum()\n",
    "        output_df = output_df.append(temp)\n",
    "        \n",
    "        counter += 1\n",
    "        if counter % 100 == 0:\n",
    "            print(counter/x, '% done')\n",
    "    \n",
    "    #Merge with original dataset\n",
    "    output_df = output_df.drop(columns=[col])\n",
    "    df = pd.merge(df, output_df,  how='left', left_on=[\"player\", \"team\", \"season\", \"matchweek\"], right_on=[\"player\", \"team\", \"season\", \"matchweek\"])\n",
    "    \n",
    "    return df"
   ]
  },
  {
   "cell_type": "code",
   "execution_count": null,
   "metadata": {
    "colab": {
     "base_uri": "https://localhost:8080/"
    },
    "id": "wm9P6DX37RBp",
    "outputId": "2eae9d03-feec-4b99-f2a0-93bf662f4241"
   },
   "outputs": [],
   "source": [
    "data = sum_timex_player(data, 'is_injured', 10)\n",
    "data = sum_timex_player(data, 'is_injured', 7)\n",
    "data = sum_timex_player(data, 'is_injured', 4)\n",
    "\n",
    "data = sum_timex_player(data, 'is_not_in_squad', 10)\n",
    "data = sum_timex_player(data, 'is_not_in_squad', 7)\n",
    "data = sum_timex_player(data, 'is_not_in_squad', 4)\n",
    "\n",
    "data = sum_timex_player(data, 'is_benched', 10)\n",
    "data = sum_timex_player(data, 'is_benched', 7)\n",
    "data = sum_timex_player(data, 'is_benched', 4)\n",
    "\n",
    "data = sum_timex_player(data, 'is_suspended', 10)\n",
    "data = sum_timex_player(data, 'is_suspended', 7)\n",
    "data = sum_timex_player(data, 'is_suspended', 4)"
   ]
  },
  {
   "cell_type": "code",
   "execution_count": 10,
   "metadata": {
    "id": "8unzV3iT7Q_N"
   },
   "outputs": [],
   "source": [
    "data.drop(columns=['is_injured', 'is_not_in_squad', 'is_benched', 'is_suspended'], inplace=True)"
   ]
  },
  {
   "cell_type": "markdown",
   "metadata": {
    "id": "Gi9JLbQh3LWa"
   },
   "source": [
    "**Calculate time in days since last league game the player played in**"
   ]
  },
  {
   "cell_type": "markdown",
   "metadata": {
    "id": "Odp3WsHPrqEQ"
   },
   "source": [
    "We expect that players who play regularly could perform better than players who are just coming back after an injury or being benched for a long time. We therefore check the number of days since a players last **played** game in a given season.\n",
    "\n",
    "- If the player plays regularly the number will ususally be 7 since league games are every week\n",
    "- If player had a long break the number will be large"
   ]
  },
  {
   "cell_type": "code",
   "execution_count": 11,
   "metadata": {
    "colab": {
     "base_uri": "https://localhost:8080/"
    },
    "id": "yvFJwd8i3Srh",
    "outputId": "70dbd594-b36a-42dd-a574-00ea1536d47a"
   },
   "outputs": [
    {
     "name": "stdout",
     "output_type": "stream",
     "text": [
      "0.10149914233224729 % done\n",
      "0.20299828466449457 % done\n",
      "0.30449742699674187 % done\n",
      "0.40599656932898914 % done\n",
      "0.5074957116612364 % done\n",
      "0.6089948539934837 % done\n",
      "0.7104939963257311 % done\n",
      "0.8119931386579783 % done\n",
      "0.9134922809902256 % done\n"
     ]
    }
   ],
   "source": [
    "days_since_last_game = []\n",
    "\n",
    "# Iterate through each row of data\n",
    "for index,row in data.iterrows():\n",
    "    \n",
    "    # Treat first row of data separately to avoid out of index error\n",
    "    # Fill with average: 7 days\n",
    "    if index == 0:\n",
    "        days_since_last_game.append(7)\n",
    "        continue\n",
    "    \n",
    "    # All other cases. Find the last 'played game' or the first game of the season (if no played games before)\n",
    "    for i in range(38):\n",
    "        \n",
    "        # When we go from one player to another, we encounter the very first game of that player in the database\n",
    "        # Wehn we go from one season to another, this is the very first game in that season\n",
    "        # This will be the stopping point for all games before the first played game of the season\n",
    "        # We fill with (i+1)*7 which represents time from the beggininig of the season\n",
    "        if (data.iloc[index,0] != data.iloc[index-(i+1),0]) or (data.iloc[index,1] != data.iloc[index-(i+1),1]):\n",
    "            days_since_last_game.append((i+1)*7)\n",
    "            break\n",
    "        \n",
    "        # We look for the latest game where player was 'played in the game'\n",
    "        # Find the difference in days to that game\n",
    "        elif (data.iloc[index-(i+1),9] == 'played in the game'):\n",
    "            days_since_last_game.append((data.iloc[index,4] - data.iloc[index-(i+1),4]).days)\n",
    "            break\n",
    "    \n",
    "    # Illustrate progress of calculation\n",
    "    if index%10000==0:\n",
    "        print(index/len(data), '% done')"
   ]
  },
  {
   "cell_type": "code",
   "execution_count": 12,
   "metadata": {
    "id": "jITXIp8X3So5"
   },
   "outputs": [],
   "source": [
    "data['days_since_last_game'] = days_since_last_game"
   ]
  },
  {
   "cell_type": "code",
   "execution_count": 13,
   "metadata": {
    "id": "uO-u3pVe3Slc"
   },
   "outputs": [],
   "source": [
    "# Fill values below 0 with average: 7\n",
    "# Theres not many negative values (<1000), this is a quick fix\n",
    "# Negative values represent errors in database and they can impact this variable\n",
    "data.loc[data['days_since_last_game']<0, 'days_since_last_game'] = 7"
   ]
  },
  {
   "cell_type": "markdown",
   "metadata": {
    "id": "86srHTob2MFm"
   },
   "source": [
    "## Team based"
   ]
  },
  {
   "cell_type": "markdown",
   "metadata": {
    "id": "eZIJUyb9spMw"
   },
   "source": [
    "Here we explore team based variables, such as how well is the team doing in terms of scoring goals, conceding goals and winning games. To the final dataset we add both the given player's team variables such as 'average amount of goals scored in the past 3 games', as well as the opponent's team variables such as 'average amount of goals conceded in the past 3 games'. This way we consider not only how well/bad is the given team doing but also how well/bad is the opposing team doing."
   ]
  },
  {
   "cell_type": "code",
   "execution_count": 16,
   "metadata": {
    "id": "PnISnFWp178c"
   },
   "outputs": [],
   "source": [
    "# Create a dataset that includes unique rows for combination [team, season, matchweek]\n",
    "team_df = data[['team', 'season', 'matchweek', 'home_team', 'away_team', 'score']].drop_duplicates().sort_values(by=['team', 'season', 'matchweek'])"
   ]
  },
  {
   "cell_type": "code",
   "execution_count": 17,
   "metadata": {
    "id": "ec6SkaAo172T"
   },
   "outputs": [],
   "source": [
    "# Extract goals scored, conceded and win/loss from the 'score' variable\n",
    "team_df['team_goals_scored']   = team_df['score'].apply(lambda x: int(x.split(\":\")[0]))\n",
    "team_df['team_goals_conceded'] = team_df['score'].apply(lambda x: int(x.split(\":\")[1]))\n",
    "team_df['team_win_loss'] = [ 1 if row['team_goals_scored']>row['team_goals_conceded'] else 0 if row['team_goals_scored']==row['team_goals_conceded'] else -1 for index,row in team_df.iterrows()]"
   ]
  },
  {
   "cell_type": "code",
   "execution_count": 18,
   "metadata": {
    "colab": {
     "base_uri": "https://localhost:8080/"
    },
    "id": "-lFwck2Z17yy",
    "outputId": "91f47153-256a-4f0d-904b-4ba8fb2a7c6c"
   },
   "outputs": [
    {
     "name": "stdout",
     "output_type": "stream",
     "text": [
      "Number of duplicates left:  0\n"
     ]
    }
   ],
   "source": [
    "# Deal with cases of duplicate [team, season, matchweek] by removing rows where team is not in away or home\n",
    "team_df['team_check'] = [ -1 if ((row['team'].lower() == row['home_team'].lower()) | (row['team'].lower() == row['away_team'].lower())) else 0 for index,row in team_df.iterrows()]\n",
    "team_df = team_df[team_df['team_check'] == -1]\n",
    "team_df = team_df.drop(columns=['team_check'])\n",
    "print('Number of duplicates left: ', team_df.duplicated(['team', 'season', 'matchweek']).sum())"
   ]
  },
  {
   "cell_type": "markdown",
   "metadata": {
    "id": "GbGcjgIA2Xvt"
   },
   "source": [
    "**Calculate max, avg of goals scored and conceded**"
   ]
  },
  {
   "cell_type": "code",
   "execution_count": 19,
   "metadata": {
    "id": "NsmlPym72O2u"
   },
   "outputs": [],
   "source": [
    "def avg_max_timex_team(df, col, timeframe):\n",
    "    \n",
    "    #prepare helper datasets\n",
    "    output_df = pd.DataFrame()\n",
    "    df1 = df[['team', 'season', 'matchweek', col]]\n",
    "    \n",
    "    #Populate output dataset with avg and max for a specified rolling window\n",
    "    for team in df1['team'].unique():\n",
    "        temp = df1[df1['team'] == team]\n",
    "        temp[\"avg_\" + col + \"_\" + str(timeframe)] = temp[col].rolling(timeframe, min_periods=1).mean()\n",
    "        temp[\"max_\" + col + \"_\" + str(timeframe)] = temp[col].rolling(timeframe, min_periods=1).max()\n",
    "        output_df = output_df.append(temp)\n",
    "    \n",
    "    #Merge with original dataset\n",
    "    output_df = output_df.drop(columns=[col])\n",
    "    df = pd.merge(df, output_df,  how='left', left_on=[\"team\", \"season\", \"matchweek\"], right_on=[\"team\", \"season\", \"matchweek\"])\n",
    "\n",
    "    return df"
   ]
  },
  {
   "cell_type": "code",
   "execution_count": null,
   "metadata": {
    "colab": {
     "base_uri": "https://localhost:8080/"
    },
    "id": "IsgchXr72Oz6",
    "outputId": "78282f6a-2e79-43de-e37a-ab56fc6b96f2"
   },
   "outputs": [],
   "source": [
    "team_df = avg_max_timex_team(team_df, 'team_goals_scored', 10)\n",
    "team_df = avg_max_timex_team(team_df, 'team_goals_scored', 7)\n",
    "team_df = avg_max_timex_team(team_df, 'team_goals_scored', 4)\n",
    "\n",
    "team_df = avg_max_timex_team(team_df, 'team_goals_conceded', 10)\n",
    "team_df = avg_max_timex_team(team_df, 'team_goals_conceded', 7)\n",
    "team_df = avg_max_timex_team(team_df, 'team_goals_conceded', 4)"
   ]
  },
  {
   "cell_type": "markdown",
   "metadata": {
    "id": "846yru_52n49"
   },
   "source": [
    "**Calculate team form**"
   ]
  },
  {
   "cell_type": "markdown",
   "metadata": {
    "id": "iwDqXtoq2q9e"
   },
   "source": [
    "How team form is calculated:\n",
    "- 1 point for win\n",
    "- 0 points for a draw\n",
    "- -1 point for a loss\n",
    "\n",
    "Then we sum up aver a period of time e.g. 3 games in the past. This variable is another indicator of how well a team is performing."
   ]
  },
  {
   "cell_type": "code",
   "execution_count": 21,
   "metadata": {
    "id": "eDzB37Zt2Oxj"
   },
   "outputs": [],
   "source": [
    "def team_form_timex(df, col, timeframe):\n",
    "    \n",
    "    #prepare helper datasets\n",
    "    output_df = pd.DataFrame()\n",
    "    df1 = df[['team', 'season', 'matchweek', col]]\n",
    "    \n",
    "    #Populate output dataset with sum for a specified rolling window\n",
    "    for team in df1['team'].unique():\n",
    "        temp = df1[df1['team'] == team]\n",
    "        temp[\"team_form_\" + str(timeframe)] = temp[col].rolling(timeframe, min_periods=1).sum()\n",
    "        output_df = output_df.append(temp)\n",
    "    \n",
    "    #Merge with original dataset\n",
    "    output_df = output_df.drop(columns=[col])\n",
    "    df = pd.merge(df, output_df,  how='left', left_on=[\"team\", \"season\", \"matchweek\"], right_on=[\"team\", \"season\", \"matchweek\"])\n",
    "\n",
    "    return df"
   ]
  },
  {
   "cell_type": "code",
   "execution_count": null,
   "metadata": {
    "colab": {
     "base_uri": "https://localhost:8080/"
    },
    "id": "Ke3JBw6f2OvI",
    "outputId": "2309f1e3-65b8-463c-8324-9072b96b5fc1"
   },
   "outputs": [],
   "source": [
    "team_df = team_form_timex(team_df, 'team_win_loss', 10)\n",
    "team_df = team_form_timex(team_df, 'team_win_loss', 7)\n",
    "team_df = team_form_timex(team_df, 'team_win_loss', 4)"
   ]
  },
  {
   "cell_type": "code",
   "execution_count": 23,
   "metadata": {
    "colab": {
     "base_uri": "https://localhost:8080/",
     "height": 176
    },
    "id": "NitQhNci2Osw",
    "outputId": "668c3b83-24ae-4002-8466-1374bd6007fa"
   },
   "outputs": [
    {
     "data": {
      "text/html": [
       "<div>\n",
       "<style scoped>\n",
       "    .dataframe tbody tr th:only-of-type {\n",
       "        vertical-align: middle;\n",
       "    }\n",
       "\n",
       "    .dataframe tbody tr th {\n",
       "        vertical-align: top;\n",
       "    }\n",
       "\n",
       "    .dataframe thead th {\n",
       "        text-align: right;\n",
       "    }\n",
       "</style>\n",
       "<table border=\"1\" class=\"dataframe\">\n",
       "  <thead>\n",
       "    <tr style=\"text-align: right;\">\n",
       "      <th></th>\n",
       "      <th>team</th>\n",
       "      <th>season</th>\n",
       "      <th>matchweek</th>\n",
       "      <th>home_team</th>\n",
       "      <th>away_team</th>\n",
       "      <th>score</th>\n",
       "      <th>team_goals_scored</th>\n",
       "      <th>team_goals_conceded</th>\n",
       "      <th>team_win_loss</th>\n",
       "      <th>avg_team_goals_scored_10</th>\n",
       "      <th>...</th>\n",
       "      <th>max_team_goals_scored_4</th>\n",
       "      <th>avg_team_goals_conceded_10</th>\n",
       "      <th>max_team_goals_conceded_10</th>\n",
       "      <th>avg_team_goals_conceded_7</th>\n",
       "      <th>max_team_goals_conceded_7</th>\n",
       "      <th>avg_team_goals_conceded_4</th>\n",
       "      <th>max_team_goals_conceded_4</th>\n",
       "      <th>team_form_10</th>\n",
       "      <th>team_form_7</th>\n",
       "      <th>team_form_4</th>\n",
       "    </tr>\n",
       "  </thead>\n",
       "  <tbody>\n",
       "    <tr>\n",
       "      <th>0</th>\n",
       "      <td>ATALANTA</td>\n",
       "      <td>2016</td>\n",
       "      <td>1</td>\n",
       "      <td>ATALANTA</td>\n",
       "      <td>LAZIO</td>\n",
       "      <td>3:4</td>\n",
       "      <td>3</td>\n",
       "      <td>4</td>\n",
       "      <td>-1</td>\n",
       "      <td>3.0</td>\n",
       "      <td>...</td>\n",
       "      <td>3.0</td>\n",
       "      <td>4.0</td>\n",
       "      <td>4.0</td>\n",
       "      <td>4.0</td>\n",
       "      <td>4.0</td>\n",
       "      <td>4.0</td>\n",
       "      <td>4.0</td>\n",
       "      <td>-1.0</td>\n",
       "      <td>-1.0</td>\n",
       "      <td>-1.0</td>\n",
       "    </tr>\n",
       "    <tr>\n",
       "      <th>1</th>\n",
       "      <td>ATALANTA</td>\n",
       "      <td>2016</td>\n",
       "      <td>2</td>\n",
       "      <td>SAMPDORIA</td>\n",
       "      <td>ATALANTA</td>\n",
       "      <td>2:1</td>\n",
       "      <td>2</td>\n",
       "      <td>1</td>\n",
       "      <td>1</td>\n",
       "      <td>2.5</td>\n",
       "      <td>...</td>\n",
       "      <td>3.0</td>\n",
       "      <td>2.5</td>\n",
       "      <td>4.0</td>\n",
       "      <td>2.5</td>\n",
       "      <td>4.0</td>\n",
       "      <td>2.5</td>\n",
       "      <td>4.0</td>\n",
       "      <td>0.0</td>\n",
       "      <td>0.0</td>\n",
       "      <td>0.0</td>\n",
       "    </tr>\n",
       "  </tbody>\n",
       "</table>\n",
       "<p>2 rows × 24 columns</p>\n",
       "</div>"
      ],
      "text/plain": [
       "       team  season  matchweek  home_team away_team score  team_goals_scored  \\\n",
       "0  ATALANTA    2016          1   ATALANTA     LAZIO   3:4                  3   \n",
       "1  ATALANTA    2016          2  SAMPDORIA  ATALANTA   2:1                  2   \n",
       "\n",
       "   team_goals_conceded  team_win_loss  avg_team_goals_scored_10  ...  \\\n",
       "0                    4             -1                       3.0  ...   \n",
       "1                    1              1                       2.5  ...   \n",
       "\n",
       "   max_team_goals_scored_4  avg_team_goals_conceded_10  \\\n",
       "0                      3.0                         4.0   \n",
       "1                      3.0                         2.5   \n",
       "\n",
       "   max_team_goals_conceded_10  avg_team_goals_conceded_7  \\\n",
       "0                         4.0                        4.0   \n",
       "1                         4.0                        2.5   \n",
       "\n",
       "   max_team_goals_conceded_7  avg_team_goals_conceded_4  \\\n",
       "0                        4.0                        4.0   \n",
       "1                        4.0                        2.5   \n",
       "\n",
       "   max_team_goals_conceded_4  team_form_10  team_form_7  team_form_4  \n",
       "0                        4.0          -1.0         -1.0         -1.0  \n",
       "1                        4.0           0.0          0.0          0.0  \n",
       "\n",
       "[2 rows x 24 columns]"
      ]
     },
     "execution_count": 23,
     "metadata": {},
     "output_type": "execute_result"
    }
   ],
   "source": [
    "team_df.head(2)"
   ]
  },
  {
   "cell_type": "markdown",
   "metadata": {
    "id": "48El_eiC2zAT"
   },
   "source": [
    "**Merge with main table**"
   ]
  },
  {
   "cell_type": "code",
   "execution_count": 24,
   "metadata": {
    "colab": {
     "base_uri": "https://localhost:8080/"
    },
    "id": "x9kujvdj7htA",
    "outputId": "ce6cdc6b-4ee7-4238-f6ff-21f14b628aa7"
   },
   "outputs": [
    {
     "name": "stdout",
     "output_type": "stream",
     "text": [
      "Potential incorrect team assignemnts:  417\n"
     ]
    }
   ],
   "source": [
    "# Check if we are able to assign to every row\n",
    "data['team_check'] = [ -1 if ((row['team'].lower() == row['home_team'].lower()) | (row['team'].lower() == row['away_team'].lower())) else 0 for index,row in data.iterrows()]\n",
    "\n",
    "# Some will not match but all of them not so usefull <- about 200 rows will have wrong team forms,\n",
    "# but all of them for players not in sqad / with NaN id and role and so on\n",
    "print('Potential incorrect team assignemnts: ', len(data[data['team_check'] == 0]))\n",
    "data.drop(columns=['team_check'], inplace=True)"
   ]
  },
  {
   "cell_type": "code",
   "execution_count": 25,
   "metadata": {
    "id": "ADqRPhUIaxEK"
   },
   "outputs": [],
   "source": [
    "# Remove some rows to make my life easier in the following cell\n",
    "team_df.drop(columns=['home_team', 'away_team', 'score','team_goals_scored', \n",
    "                      'team_goals_conceded', 'team_win_loss'], inplace=True)"
   ]
  },
  {
   "cell_type": "code",
   "execution_count": 26,
   "metadata": {
    "colab": {
     "base_uri": "https://localhost:8080/"
    },
    "id": "dfu8_Con7hmN",
    "outputId": "cf91e354-5872-41e9-c707-ec533b218988"
   },
   "outputs": [],
   "source": [
    "# Create player team table and opponent team table (we will merge then to the main table)\n",
    "# For each table we need\n",
    "players_team  = team_df.copy(deep=True)\n",
    "opposing_team = team_df.copy(deep=True)\n",
    "opposing_team.rename(columns={'avg_team_goals_scored_15' : 'avg_opponent_goals_scored_15',\n",
    "                             'avg_team_goals_scored_10' : 'avg_opponent_goals_scored_10',\n",
    "                             'avg_team_goals_scored_5' : 'avg_opponent_goals_scored_15',\n",
    "                              \n",
    "                             'max_team_goals_scored_15' : 'max_opponent_goals_scored_15',\n",
    "                             'max_team_goals_scored_10' : 'max_opponent_goals_scored_10',\n",
    "                             'max_team_goals_scored_5' : 'max_opponent_goals_scored_5',\n",
    "                              \n",
    "                             'avg_team_goals_conceded_15' : 'avg_opponent_goals_conceded_15',\n",
    "                             'avg_team_goals_conceded_10' : 'avg_opponent_goals_conceded_10',\n",
    "                             'avg_team_goals_conceded_5' : 'avg_opponent_goals_conceded_5',\n",
    "                              \n",
    "                             'max_team_goals_conceded_15' : 'max_opponent_goals_conceded_15',\n",
    "                             'max_team_goals_conceded_10' : 'max_opponent_goals_conceded_10',\n",
    "                             'max_team_goals_conceded_5' : 'max_opponent_goals_conceded_5',\n",
    "                              \n",
    "                             'team_form_15' : 'opponent_form_15',\n",
    "                             'team_form_10' : 'opponent_form_10',\n",
    "                             'team_form_5' : 'opponent_form_5'}, inplace=True)"
   ]
  },
  {
   "cell_type": "code",
   "execution_count": 27,
   "metadata": {
    "id": "KG21WSED2OqV"
   },
   "outputs": [],
   "source": [
    "# Merge the datasets\n",
    "data = pd.merge(data, players_team,  how='left', left_on=[\"team\", \"season\", \"matchweek\"], right_on=[\"team\", \"season\", \"matchweek\"])\n",
    "data = pd.merge(data, opposing_team,  how='left', left_on=[\"opponent\", \"season\", \"matchweek\"], right_on=[\"team\", \"season\", \"matchweek\"])\n",
    "data.drop(columns=['team_y'], inplace=True)\n",
    "data.rename(columns={'team_x': 'team'}, inplace=True)"
   ]
  },
  {
   "cell_type": "markdown",
   "metadata": {
    "id": "JsIkq0ze3LLF"
   },
   "source": [
    "## Game based"
   ]
  },
  {
   "cell_type": "markdown",
   "metadata": {
    "id": "UFxITgQQTgZk"
   },
   "source": [
    "**Away or home game**\n",
    "\n",
    "In football playing on home pitch gives a big advantage, therefore, we create home_game variable"
   ]
  },
  {
   "cell_type": "code",
   "execution_count": 28,
   "metadata": {
    "id": "igYCKvZ2Tiue"
   },
   "outputs": [],
   "source": [
    "data['home_game'] = [ 1 if row['team']==row['home_team'] else 0 for index,row in data.iterrows()]"
   ]
  },
  {
   "cell_type": "code",
   "execution_count": 29,
   "metadata": {
    "colab": {
     "base_uri": "https://localhost:8080/",
     "height": 595
    },
    "id": "Rs3h09VIYCs0",
    "outputId": "00dde02a-b9b0-44b7-bfa4-2eba6c456ca1"
   },
   "outputs": [
    {
     "data": {
      "text/html": [
       "<div>\n",
       "<style scoped>\n",
       "    .dataframe tbody tr th:only-of-type {\n",
       "        vertical-align: middle;\n",
       "    }\n",
       "\n",
       "    .dataframe tbody tr th {\n",
       "        vertical-align: top;\n",
       "    }\n",
       "\n",
       "    .dataframe thead th {\n",
       "        text-align: right;\n",
       "    }\n",
       "</style>\n",
       "<table border=\"1\" class=\"dataframe\">\n",
       "  <thead>\n",
       "    <tr style=\"text-align: right;\">\n",
       "      <th></th>\n",
       "      <th>Unnamed: 0</th>\n",
       "      <th>player</th>\n",
       "      <th>season</th>\n",
       "      <th>matchweek</th>\n",
       "      <th>team</th>\n",
       "      <th>match_date</th>\n",
       "      <th>home_team</th>\n",
       "      <th>away_team</th>\n",
       "      <th>score</th>\n",
       "      <th>status</th>\n",
       "      <th>...</th>\n",
       "      <th>avg_opponent_goals_conceded_10</th>\n",
       "      <th>max_opponent_goals_conceded_10</th>\n",
       "      <th>avg_team_goals_conceded_7_y</th>\n",
       "      <th>max_team_goals_conceded_7_y</th>\n",
       "      <th>avg_team_goals_conceded_4_y</th>\n",
       "      <th>max_team_goals_conceded_4_y</th>\n",
       "      <th>opponent_form_10</th>\n",
       "      <th>team_form_7_y</th>\n",
       "      <th>team_form_4_y</th>\n",
       "      <th>home_game</th>\n",
       "    </tr>\n",
       "  </thead>\n",
       "  <tbody>\n",
       "    <tr>\n",
       "      <th>0</th>\n",
       "      <td>0</td>\n",
       "      <td>AARONS</td>\n",
       "      <td>2017</td>\n",
       "      <td>23</td>\n",
       "      <td>VERONA</td>\n",
       "      <td>2018-02-04</td>\n",
       "      <td>VERONA</td>\n",
       "      <td>ROMA</td>\n",
       "      <td>0:1</td>\n",
       "      <td>LM</td>\n",
       "      <td>...</td>\n",
       "      <td>0.8</td>\n",
       "      <td>2.0</td>\n",
       "      <td>0.857143</td>\n",
       "      <td>2.0</td>\n",
       "      <td>1.25</td>\n",
       "      <td>2.0</td>\n",
       "      <td>0.0</td>\n",
       "      <td>-1.0</td>\n",
       "      <td>-3.0</td>\n",
       "      <td>1</td>\n",
       "    </tr>\n",
       "    <tr>\n",
       "      <th>1</th>\n",
       "      <td>1</td>\n",
       "      <td>AARONS</td>\n",
       "      <td>2017</td>\n",
       "      <td>24</td>\n",
       "      <td>VERONA</td>\n",
       "      <td>2018-02-11</td>\n",
       "      <td>SAMPDORIA</td>\n",
       "      <td>VERONA</td>\n",
       "      <td>2:0</td>\n",
       "      <td>RW</td>\n",
       "      <td>...</td>\n",
       "      <td>1.2</td>\n",
       "      <td>2.0</td>\n",
       "      <td>1.000000</td>\n",
       "      <td>2.0</td>\n",
       "      <td>0.75</td>\n",
       "      <td>1.0</td>\n",
       "      <td>2.0</td>\n",
       "      <td>4.0</td>\n",
       "      <td>1.0</td>\n",
       "      <td>0</td>\n",
       "    </tr>\n",
       "    <tr>\n",
       "      <th>2</th>\n",
       "      <td>2</td>\n",
       "      <td>AARONS</td>\n",
       "      <td>2017</td>\n",
       "      <td>25</td>\n",
       "      <td>VERONA</td>\n",
       "      <td>2018-02-19</td>\n",
       "      <td>LAZIO</td>\n",
       "      <td>VERONA</td>\n",
       "      <td>2:0</td>\n",
       "      <td>NaN</td>\n",
       "      <td>...</td>\n",
       "      <td>1.6</td>\n",
       "      <td>5.0</td>\n",
       "      <td>1.428571</td>\n",
       "      <td>5.0</td>\n",
       "      <td>1.00</td>\n",
       "      <td>2.0</td>\n",
       "      <td>2.0</td>\n",
       "      <td>2.0</td>\n",
       "      <td>2.0</td>\n",
       "      <td>0</td>\n",
       "    </tr>\n",
       "    <tr>\n",
       "      <th>3</th>\n",
       "      <td>3</td>\n",
       "      <td>AARONS</td>\n",
       "      <td>2017</td>\n",
       "      <td>26</td>\n",
       "      <td>VERONA</td>\n",
       "      <td>2018-02-25</td>\n",
       "      <td>VERONA</td>\n",
       "      <td>TORINO</td>\n",
       "      <td>2:1</td>\n",
       "      <td>on the bench</td>\n",
       "      <td>...</td>\n",
       "      <td>0.9</td>\n",
       "      <td>3.0</td>\n",
       "      <td>0.571429</td>\n",
       "      <td>1.0</td>\n",
       "      <td>0.75</td>\n",
       "      <td>1.0</td>\n",
       "      <td>2.0</td>\n",
       "      <td>3.0</td>\n",
       "      <td>1.0</td>\n",
       "      <td>1</td>\n",
       "    </tr>\n",
       "    <tr>\n",
       "      <th>4</th>\n",
       "      <td>4</td>\n",
       "      <td>AARONS</td>\n",
       "      <td>2017</td>\n",
       "      <td>27</td>\n",
       "      <td>VERONA</td>\n",
       "      <td>2018-04-04</td>\n",
       "      <td>BENEVENTO</td>\n",
       "      <td>VERONA</td>\n",
       "      <td>3:0</td>\n",
       "      <td>on the bench</td>\n",
       "      <td>...</td>\n",
       "      <td>0.8</td>\n",
       "      <td>2.0</td>\n",
       "      <td>0.857143</td>\n",
       "      <td>2.0</td>\n",
       "      <td>1.00</td>\n",
       "      <td>2.0</td>\n",
       "      <td>8.0</td>\n",
       "      <td>5.0</td>\n",
       "      <td>4.0</td>\n",
       "      <td>0</td>\n",
       "    </tr>\n",
       "    <tr>\n",
       "      <th>5</th>\n",
       "      <td>5</td>\n",
       "      <td>AARONS</td>\n",
       "      <td>2017</td>\n",
       "      <td>28</td>\n",
       "      <td>VERONA</td>\n",
       "      <td>2018-03-10</td>\n",
       "      <td>VERONA</td>\n",
       "      <td>CHIEVO</td>\n",
       "      <td>1:0</td>\n",
       "      <td>NaN</td>\n",
       "      <td>...</td>\n",
       "      <td>0.7</td>\n",
       "      <td>2.0</td>\n",
       "      <td>0.714286</td>\n",
       "      <td>2.0</td>\n",
       "      <td>0.50</td>\n",
       "      <td>1.0</td>\n",
       "      <td>4.0</td>\n",
       "      <td>2.0</td>\n",
       "      <td>3.0</td>\n",
       "      <td>1</td>\n",
       "    </tr>\n",
       "    <tr>\n",
       "      <th>6</th>\n",
       "      <td>6</td>\n",
       "      <td>AARONS</td>\n",
       "      <td>2017</td>\n",
       "      <td>29</td>\n",
       "      <td>VERONA</td>\n",
       "      <td>2018-03-18</td>\n",
       "      <td>VERONA</td>\n",
       "      <td>ATALANTA</td>\n",
       "      <td>0:5</td>\n",
       "      <td>NaN</td>\n",
       "      <td>...</td>\n",
       "      <td>1.6</td>\n",
       "      <td>5.0</td>\n",
       "      <td>1.428571</td>\n",
       "      <td>5.0</td>\n",
       "      <td>2.00</td>\n",
       "      <td>5.0</td>\n",
       "      <td>-4.0</td>\n",
       "      <td>-1.0</td>\n",
       "      <td>-2.0</td>\n",
       "      <td>1</td>\n",
       "    </tr>\n",
       "    <tr>\n",
       "      <th>7</th>\n",
       "      <td>7</td>\n",
       "      <td>AARONS</td>\n",
       "      <td>2017</td>\n",
       "      <td>30</td>\n",
       "      <td>VERONA</td>\n",
       "      <td>2018-03-31</td>\n",
       "      <td>INTER</td>\n",
       "      <td>VERONA</td>\n",
       "      <td>3:0</td>\n",
       "      <td>RW</td>\n",
       "      <td>...</td>\n",
       "      <td>0.9</td>\n",
       "      <td>5.0</td>\n",
       "      <td>0.857143</td>\n",
       "      <td>5.0</td>\n",
       "      <td>1.25</td>\n",
       "      <td>5.0</td>\n",
       "      <td>3.0</td>\n",
       "      <td>3.0</td>\n",
       "      <td>0.0</td>\n",
       "      <td>0</td>\n",
       "    </tr>\n",
       "    <tr>\n",
       "      <th>8</th>\n",
       "      <td>8</td>\n",
       "      <td>AARONS</td>\n",
       "      <td>2017</td>\n",
       "      <td>31</td>\n",
       "      <td>VERONA</td>\n",
       "      <td>2018-04-08</td>\n",
       "      <td>VERONA</td>\n",
       "      <td>CAGLIARI</td>\n",
       "      <td>1:0</td>\n",
       "      <td>LW</td>\n",
       "      <td>...</td>\n",
       "      <td>1.6</td>\n",
       "      <td>5.0</td>\n",
       "      <td>2.142857</td>\n",
       "      <td>5.0</td>\n",
       "      <td>2.00</td>\n",
       "      <td>4.0</td>\n",
       "      <td>1.0</td>\n",
       "      <td>0.0</td>\n",
       "      <td>-1.0</td>\n",
       "      <td>1</td>\n",
       "    </tr>\n",
       "    <tr>\n",
       "      <th>9</th>\n",
       "      <td>9</td>\n",
       "      <td>AARONS</td>\n",
       "      <td>2017</td>\n",
       "      <td>32</td>\n",
       "      <td>VERONA</td>\n",
       "      <td>2018-04-15</td>\n",
       "      <td>BOLOGNA</td>\n",
       "      <td>VERONA</td>\n",
       "      <td>2:0</td>\n",
       "      <td>LW</td>\n",
       "      <td>...</td>\n",
       "      <td>0.7</td>\n",
       "      <td>2.0</td>\n",
       "      <td>0.428571</td>\n",
       "      <td>1.0</td>\n",
       "      <td>0.50</td>\n",
       "      <td>1.0</td>\n",
       "      <td>4.0</td>\n",
       "      <td>3.0</td>\n",
       "      <td>2.0</td>\n",
       "      <td>0</td>\n",
       "    </tr>\n",
       "  </tbody>\n",
       "</table>\n",
       "<p>10 rows × 114 columns</p>\n",
       "</div>"
      ],
      "text/plain": [
       "   Unnamed: 0  player  season  matchweek    team  match_date  home_team  \\\n",
       "0           0  AARONS    2017         23  VERONA  2018-02-04     VERONA   \n",
       "1           1  AARONS    2017         24  VERONA  2018-02-11  SAMPDORIA   \n",
       "2           2  AARONS    2017         25  VERONA  2018-02-19      LAZIO   \n",
       "3           3  AARONS    2017         26  VERONA  2018-02-25     VERONA   \n",
       "4           4  AARONS    2017         27  VERONA  2018-04-04  BENEVENTO   \n",
       "5           5  AARONS    2017         28  VERONA  2018-03-10     VERONA   \n",
       "6           6  AARONS    2017         29  VERONA  2018-03-18     VERONA   \n",
       "7           7  AARONS    2017         30  VERONA  2018-03-31      INTER   \n",
       "8           8  AARONS    2017         31  VERONA  2018-04-08     VERONA   \n",
       "9           9  AARONS    2017         32  VERONA  2018-04-15    BOLOGNA   \n",
       "\n",
       "  away_team score        status  ... avg_opponent_goals_conceded_10  \\\n",
       "0      ROMA   0:1            LM  ...                            0.8   \n",
       "1    VERONA   2:0            RW  ...                            1.2   \n",
       "2    VERONA   2:0           NaN  ...                            1.6   \n",
       "3    TORINO   2:1  on the bench  ...                            0.9   \n",
       "4    VERONA   3:0  on the bench  ...                            0.8   \n",
       "5    CHIEVO   1:0           NaN  ...                            0.7   \n",
       "6  ATALANTA   0:5           NaN  ...                            1.6   \n",
       "7    VERONA   3:0            RW  ...                            0.9   \n",
       "8  CAGLIARI   1:0            LW  ...                            1.6   \n",
       "9    VERONA   2:0            LW  ...                            0.7   \n",
       "\n",
       "   max_opponent_goals_conceded_10 avg_team_goals_conceded_7_y  \\\n",
       "0                             2.0                    0.857143   \n",
       "1                             2.0                    1.000000   \n",
       "2                             5.0                    1.428571   \n",
       "3                             3.0                    0.571429   \n",
       "4                             2.0                    0.857143   \n",
       "5                             2.0                    0.714286   \n",
       "6                             5.0                    1.428571   \n",
       "7                             5.0                    0.857143   \n",
       "8                             5.0                    2.142857   \n",
       "9                             2.0                    0.428571   \n",
       "\n",
       "   max_team_goals_conceded_7_y  avg_team_goals_conceded_4_y  \\\n",
       "0                          2.0                         1.25   \n",
       "1                          2.0                         0.75   \n",
       "2                          5.0                         1.00   \n",
       "3                          1.0                         0.75   \n",
       "4                          2.0                         1.00   \n",
       "5                          2.0                         0.50   \n",
       "6                          5.0                         2.00   \n",
       "7                          5.0                         1.25   \n",
       "8                          5.0                         2.00   \n",
       "9                          1.0                         0.50   \n",
       "\n",
       "   max_team_goals_conceded_4_y  opponent_form_10  team_form_7_y  \\\n",
       "0                          2.0               0.0           -1.0   \n",
       "1                          1.0               2.0            4.0   \n",
       "2                          2.0               2.0            2.0   \n",
       "3                          1.0               2.0            3.0   \n",
       "4                          2.0               8.0            5.0   \n",
       "5                          1.0               4.0            2.0   \n",
       "6                          5.0              -4.0           -1.0   \n",
       "7                          5.0               3.0            3.0   \n",
       "8                          4.0               1.0            0.0   \n",
       "9                          1.0               4.0            3.0   \n",
       "\n",
       "   team_form_4_y  home_game  \n",
       "0           -3.0          1  \n",
       "1            1.0          0  \n",
       "2            2.0          0  \n",
       "3            1.0          1  \n",
       "4            4.0          0  \n",
       "5            3.0          1  \n",
       "6           -2.0          1  \n",
       "7            0.0          0  \n",
       "8           -1.0          1  \n",
       "9            2.0          0  \n",
       "\n",
       "[10 rows x 114 columns]"
      ]
     },
     "execution_count": 29,
     "metadata": {},
     "output_type": "execute_result"
    }
   ],
   "source": [
    "data.head(10)"
   ]
  },
  {
   "cell_type": "markdown",
   "metadata": {
    "id": "jWKez1gFQq5L"
   },
   "source": [
    "# Target Variable: Final Score"
   ]
  },
  {
   "cell_type": "code",
   "execution_count": 30,
   "metadata": {
    "id": "GH3v3MzKi99N"
   },
   "outputs": [],
   "source": [
    "# list(enumerate(data.columns))"
   ]
  },
  {
   "cell_type": "code",
   "execution_count": 31,
   "metadata": {
    "colab": {
     "base_uri": "https://localhost:8080/",
     "height": 423
    },
    "id": "pTb5NN2YclJS",
    "outputId": "e9a4895f-939e-4848-d95c-505eeec1b190"
   },
   "outputs": [],
   "source": [
    "data.iloc[:,13:25]  = data.iloc[:,13:25].fillna(0)\n",
    "data.iloc[:,29:108] = data.iloc[:,29:108].fillna(0)"
   ]
  },
  {
   "cell_type": "code",
   "execution_count": 32,
   "metadata": {
    "id": "2Dzeydm0Oqt7"
   },
   "outputs": [],
   "source": [
    "# COMPUTE OUR TARGET VARIABLE, THE FINAL SCORE OF THE NEXT MATCHWEEK\n",
    "# the model shall only have information about what preceded the moment it is trying to predict\n",
    "# of course it is necessary to erase the last row available for each player, as we don't have information about the next score he will receive\n",
    "\n",
    "def final_score (df1):\n",
    "    \n",
    "    df2 = pd.DataFrame()\n",
    "    \n",
    "    for player in df1.player.unique():\n",
    "        \n",
    "        #divide whole dataset into chunks, one for each player, and operate within one chunk at a time\n",
    "        temp = df1[df1.player == player]\n",
    "        \n",
    "        #compute final score resulting from data on each row\n",
    "        temp[\"final_score\"] = temp.apply(lambda x: sum([x.base_score, x.goal_scored*(3), x.goal_conceded*(-1), x.penalty_saved*(3), x.penalty_failed*(-3), x.penalty_scored*(3), x.own_goal*(-2), x.yellow_card*(-0.5), x.red_card*(-1), x.assist]), axis=1)\n",
    "        \n",
    "        #shift final scores upward by 1, so that the final score at matchweek x is associated with the information available after matchweek x-1\n",
    "        temp[\"final_score_next_week\"] = temp[\"final_score\"].shift(-1)\n",
    "        \n",
    "        #concatenate all chunks again in a single dataset\n",
    "        df2 = df2.append(temp)\n",
    "    \n",
    "    #erase rows for which final score has remained empty i.e. the last observation we have of each player\n",
    "    df2 = df2[df2[\"final_score_next_week\"].notna()]\n",
    "    \n",
    "    return df2"
   ]
  },
  {
   "cell_type": "code",
   "execution_count": null,
   "metadata": {
    "colab": {
     "base_uri": "https://localhost:8080/"
    },
    "id": "a_KDMHYqPhzr",
    "outputId": "9f60875f-3956-4bb3-c955-b6fd9e15c5ae"
   },
   "outputs": [],
   "source": [
    "data = final_score(data)"
   ]
  },
  {
   "cell_type": "code",
   "execution_count": null,
   "metadata": {
    "colab": {
     "base_uri": "https://localhost:8080/"
    },
    "id": "rsmLXembjaOh",
    "outputId": "99942c98-5296-4f92-a91c-30fffb4d4058",
    "scrolled": true
   },
   "outputs": [],
   "source": [
    "# Create avg max aggregates on the final_score variable\n",
    "data = avg_max_timex(data, 'final_score', 10)\n",
    "data = avg_max_timex(data, 'final_score', 7)\n",
    "data = avg_max_timex(data, 'final_score', 4)"
   ]
  },
  {
   "cell_type": "code",
   "execution_count": 35,
   "metadata": {
    "id": "Ft6oZuFajKP7"
   },
   "outputs": [],
   "source": [
    "data.drop(columns=['Unnamed: 0'], inplace=True)"
   ]
  },
  {
   "cell_type": "code",
   "execution_count": 36,
   "metadata": {
    "colab": {
     "base_uri": "https://localhost:8080/",
     "height": 386
    },
    "id": "7iRFLqXrvXEf",
    "outputId": "0f783333-8ca7-46c0-8ecf-e038b3aaef61"
   },
   "outputs": [
    {
     "data": {
      "text/html": [
       "<div>\n",
       "<style scoped>\n",
       "    .dataframe tbody tr th:only-of-type {\n",
       "        vertical-align: middle;\n",
       "    }\n",
       "\n",
       "    .dataframe tbody tr th {\n",
       "        vertical-align: top;\n",
       "    }\n",
       "\n",
       "    .dataframe thead th {\n",
       "        text-align: right;\n",
       "    }\n",
       "</style>\n",
       "<table border=\"1\" class=\"dataframe\">\n",
       "  <thead>\n",
       "    <tr style=\"text-align: right;\">\n",
       "      <th></th>\n",
       "      <th>player</th>\n",
       "      <th>season</th>\n",
       "      <th>matchweek</th>\n",
       "      <th>team</th>\n",
       "      <th>match_date</th>\n",
       "      <th>home_team</th>\n",
       "      <th>away_team</th>\n",
       "      <th>score</th>\n",
       "      <th>status</th>\n",
       "      <th>player_status</th>\n",
       "      <th>...</th>\n",
       "      <th>team_form_4_y</th>\n",
       "      <th>home_game</th>\n",
       "      <th>final_score</th>\n",
       "      <th>final_score_next_week</th>\n",
       "      <th>avg_final_score_10</th>\n",
       "      <th>max_final_score_10</th>\n",
       "      <th>avg_final_score_7</th>\n",
       "      <th>max_final_score_7</th>\n",
       "      <th>avg_final_score_4</th>\n",
       "      <th>max_final_score_4</th>\n",
       "    </tr>\n",
       "  </thead>\n",
       "  <tbody>\n",
       "    <tr>\n",
       "      <th>0</th>\n",
       "      <td>AARONS</td>\n",
       "      <td>2017</td>\n",
       "      <td>23</td>\n",
       "      <td>VERONA</td>\n",
       "      <td>2018-02-04</td>\n",
       "      <td>VERONA</td>\n",
       "      <td>ROMA</td>\n",
       "      <td>0:1</td>\n",
       "      <td>LM</td>\n",
       "      <td>played in the game</td>\n",
       "      <td>...</td>\n",
       "      <td>-3.0</td>\n",
       "      <td>1</td>\n",
       "      <td>5.0</td>\n",
       "      <td>5.5</td>\n",
       "      <td>5.000000</td>\n",
       "      <td>5.0</td>\n",
       "      <td>5.000000</td>\n",
       "      <td>5.0</td>\n",
       "      <td>5.000000</td>\n",
       "      <td>5.0</td>\n",
       "    </tr>\n",
       "    <tr>\n",
       "      <th>1</th>\n",
       "      <td>AARONS</td>\n",
       "      <td>2017</td>\n",
       "      <td>24</td>\n",
       "      <td>VERONA</td>\n",
       "      <td>2018-02-11</td>\n",
       "      <td>SAMPDORIA</td>\n",
       "      <td>VERONA</td>\n",
       "      <td>2:0</td>\n",
       "      <td>RW</td>\n",
       "      <td>played in the game</td>\n",
       "      <td>...</td>\n",
       "      <td>1.0</td>\n",
       "      <td>0</td>\n",
       "      <td>5.5</td>\n",
       "      <td>5.5</td>\n",
       "      <td>5.250000</td>\n",
       "      <td>5.5</td>\n",
       "      <td>5.250000</td>\n",
       "      <td>5.5</td>\n",
       "      <td>5.250000</td>\n",
       "      <td>5.5</td>\n",
       "    </tr>\n",
       "    <tr>\n",
       "      <th>2</th>\n",
       "      <td>AARONS</td>\n",
       "      <td>2017</td>\n",
       "      <td>25</td>\n",
       "      <td>VERONA</td>\n",
       "      <td>2018-02-19</td>\n",
       "      <td>LAZIO</td>\n",
       "      <td>VERONA</td>\n",
       "      <td>2:0</td>\n",
       "      <td>NaN</td>\n",
       "      <td>error_status</td>\n",
       "      <td>...</td>\n",
       "      <td>2.0</td>\n",
       "      <td>0</td>\n",
       "      <td>5.5</td>\n",
       "      <td>0.0</td>\n",
       "      <td>5.333333</td>\n",
       "      <td>5.5</td>\n",
       "      <td>5.333333</td>\n",
       "      <td>5.5</td>\n",
       "      <td>5.333333</td>\n",
       "      <td>5.5</td>\n",
       "    </tr>\n",
       "    <tr>\n",
       "      <th>3</th>\n",
       "      <td>AARONS</td>\n",
       "      <td>2017</td>\n",
       "      <td>26</td>\n",
       "      <td>VERONA</td>\n",
       "      <td>2018-02-25</td>\n",
       "      <td>VERONA</td>\n",
       "      <td>TORINO</td>\n",
       "      <td>2:1</td>\n",
       "      <td>on the bench</td>\n",
       "      <td>on the bench</td>\n",
       "      <td>...</td>\n",
       "      <td>1.0</td>\n",
       "      <td>1</td>\n",
       "      <td>0.0</td>\n",
       "      <td>0.0</td>\n",
       "      <td>4.000000</td>\n",
       "      <td>5.5</td>\n",
       "      <td>4.000000</td>\n",
       "      <td>5.5</td>\n",
       "      <td>4.000000</td>\n",
       "      <td>5.5</td>\n",
       "    </tr>\n",
       "    <tr>\n",
       "      <th>4</th>\n",
       "      <td>AARONS</td>\n",
       "      <td>2017</td>\n",
       "      <td>27</td>\n",
       "      <td>VERONA</td>\n",
       "      <td>2018-04-04</td>\n",
       "      <td>BENEVENTO</td>\n",
       "      <td>VERONA</td>\n",
       "      <td>3:0</td>\n",
       "      <td>on the bench</td>\n",
       "      <td>on the bench</td>\n",
       "      <td>...</td>\n",
       "      <td>4.0</td>\n",
       "      <td>0</td>\n",
       "      <td>0.0</td>\n",
       "      <td>0.0</td>\n",
       "      <td>3.200000</td>\n",
       "      <td>5.5</td>\n",
       "      <td>3.200000</td>\n",
       "      <td>5.5</td>\n",
       "      <td>2.750000</td>\n",
       "      <td>5.5</td>\n",
       "    </tr>\n",
       "  </tbody>\n",
       "</table>\n",
       "<p>5 rows × 121 columns</p>\n",
       "</div>"
      ],
      "text/plain": [
       "   player  season  matchweek    team  match_date  home_team away_team score  \\\n",
       "0  AARONS    2017         23  VERONA  2018-02-04     VERONA      ROMA   0:1   \n",
       "1  AARONS    2017         24  VERONA  2018-02-11  SAMPDORIA    VERONA   2:0   \n",
       "2  AARONS    2017         25  VERONA  2018-02-19      LAZIO    VERONA   2:0   \n",
       "3  AARONS    2017         26  VERONA  2018-02-25     VERONA    TORINO   2:1   \n",
       "4  AARONS    2017         27  VERONA  2018-04-04  BENEVENTO    VERONA   3:0   \n",
       "\n",
       "         status       player_status  ...  team_form_4_y home_game  \\\n",
       "0            LM  played in the game  ...           -3.0         1   \n",
       "1            RW  played in the game  ...            1.0         0   \n",
       "2           NaN        error_status  ...            2.0         0   \n",
       "3  on the bench        on the bench  ...            1.0         1   \n",
       "4  on the bench        on the bench  ...            4.0         0   \n",
       "\n",
       "   final_score  final_score_next_week  avg_final_score_10  max_final_score_10  \\\n",
       "0          5.0                    5.5            5.000000                 5.0   \n",
       "1          5.5                    5.5            5.250000                 5.5   \n",
       "2          5.5                    0.0            5.333333                 5.5   \n",
       "3          0.0                    0.0            4.000000                 5.5   \n",
       "4          0.0                    0.0            3.200000                 5.5   \n",
       "\n",
       "   avg_final_score_7  max_final_score_7  avg_final_score_4  max_final_score_4  \n",
       "0           5.000000                5.0           5.000000                5.0  \n",
       "1           5.250000                5.5           5.250000                5.5  \n",
       "2           5.333333                5.5           5.333333                5.5  \n",
       "3           4.000000                5.5           4.000000                5.5  \n",
       "4           3.200000                5.5           2.750000                5.5  \n",
       "\n",
       "[5 rows x 121 columns]"
      ]
     },
     "execution_count": 36,
     "metadata": {},
     "output_type": "execute_result"
    }
   ],
   "source": [
    "data.head()"
   ]
  },
  {
   "cell_type": "code",
   "execution_count": 37,
   "metadata": {
    "id": "18gYaEA9Oxtm"
   },
   "outputs": [],
   "source": [
    "data.to_csv(\"ready_datasets/final_dataset_for_modeling.csv\")"
   ]
  }
 ],
 "metadata": {
  "colab": {
   "collapsed_sections": [],
   "name": "ML Project - Feature Engineering",
   "provenance": []
  },
  "kernelspec": {
   "display_name": "Python 3",
   "language": "python",
   "name": "python3"
  },
  "language_info": {
   "codemirror_mode": {
    "name": "ipython",
    "version": 3
   },
   "file_extension": ".py",
   "mimetype": "text/x-python",
   "name": "python",
   "nbconvert_exporter": "python",
   "pygments_lexer": "ipython3",
   "version": "3.8.8"
  }
 },
 "nbformat": 4,
 "nbformat_minor": 1
}
